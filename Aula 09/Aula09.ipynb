{
  "nbformat": 4,
  "nbformat_minor": 0,
  "metadata": {
    "colab": {
      "name": "Aula09.ipynb",
      "provenance": []
    },
    "kernelspec": {
      "name": "python3",
      "display_name": "Python 3"
    }
  },
  "cells": [
    {
      "cell_type": "markdown",
      "metadata": {
        "id": "Ty0EoUjjyQ_I",
        "colab_type": "text"
      },
      "source": [
        "------\n",
        "\n",
        "<h1><b> Laço de repetição for </b></h1>\n",
        "\n",
        "------\n",
        "\n",
        "Laço de repetição for é o laço de repetição mais usado no Python.\n",
        "\n",
        "A estrutura básica do for é:\n",
        "\n",
        "for i in range(numero):<br>\n",
        "....<código a ser repetido>\n",
        "\n",
        "Dentro do range() deve ser colocado um número inteiro de vezes que você quer que o for faça o loop.\n"
      ]
    },
    {
      "cell_type": "code",
      "metadata": {
        "id": "RiFrISL-yJxd",
        "colab_type": "code",
        "colab": {}
      },
      "source": [
        "# Exemplo1: Uso do for.\n",
        "\n",
        "# Faça um programa que mostre na tela números de 0 a 10.\n",
        "\n",
        "for i in range( 11 ): # Com o range() ele vai começar com o zero e ir até um numeor antes do 11!\n",
        "    print( i ) "
      ],
      "execution_count": null,
      "outputs": []
    },
    {
      "cell_type": "code",
      "metadata": {
        "id": "XhFsR0YA0hYy",
        "colab_type": "code",
        "colab": {}
      },
      "source": [
        "# Exemplo2: Uso do for.\n",
        "\n",
        "# Faça um programa que mostre a taboada do 7.\n",
        "\n",
        "for i in range(11):\n",
        "    print(f\"7 x {i} = {i*7}\")"
      ],
      "execution_count": null,
      "outputs": []
    },
    {
      "cell_type": "code",
      "metadata": {
        "id": "IW7BfvI51Tql",
        "colab_type": "code",
        "colab": {}
      },
      "source": [
        "# Exemplo3: Uso do for.\n",
        "\n",
        "# Faça um programa que peça 5 notas de um aluno e mostre a média\n",
        "\n",
        "notasAlunos = [ ] # A lista tem que ser iniciada fora do for\"\n",
        "                  # Se a lista for iniciada dentro do for, a cada loop a lista será apagada!\n",
        "\n",
        "for i in range(5): \n",
        "    nota = float (input(f\"Digite a nota {i+1}: \"))\n",
        "    notasAlunos.append(nota)\n",
        "\n",
        "print(f\"A média é: {sum(notasAlunos) / len( notasAlunos )}\")\n",
        "\n",
        "# Não ficou fácil? Agora ao invés de usar 5 variáveis, usamos 1 lista."
      ],
      "execution_count": null,
      "outputs": []
    },
    {
      "cell_type": "code",
      "metadata": {
        "id": "di75mu4Kgkv_",
        "colab_type": "code",
        "colab": {}
      },
      "source": [
        ""
      ],
      "execution_count": null,
      "outputs": []
    },
    {
      "cell_type": "markdown",
      "metadata": {
        "id": "YFyg5N5xg3zt",
        "colab_type": "text"
      },
      "source": [
        "<b>Exercicio 01</b>\n",
        "\n",
        "Faça um programa que conte de 0 a 100 e mostre todos os números."
      ]
    },
    {
      "cell_type": "code",
      "metadata": {
        "id": "felPKbs_hpzF",
        "colab_type": "code",
        "colab": {}
      },
      "source": [
        "for numero in range(101):\n",
        "    print(numero)"
      ],
      "execution_count": null,
      "outputs": []
    },
    {
      "cell_type": "markdown",
      "metadata": {
        "id": "vxXrflX8hqYm",
        "colab_type": "text"
      },
      "source": [
        "<b>Exercicio 02</b>\n",
        "\n",
        "Faça um programa que mostre a tabuada de 1, 2, 3 e 4"
      ]
    },
    {
      "cell_type": "code",
      "metadata": {
        "id": "oiqFl9nKiBUs",
        "colab_type": "code",
        "colab": {}
      },
      "source": [
        "for fator1 in range(1, 5):\n",
        "    for fator2 in range(1, 11):\n",
        "        produto = fator1 * fator2\n",
        "        print(f\"{fator1} x {fator2} = {produto}\")   \n",
        "    print()"
      ],
      "execution_count": null,
      "outputs": []
    },
    {
      "cell_type": "markdown",
      "metadata": {
        "id": "9firkc2JhszR",
        "colab_type": "text"
      },
      "source": [
        "<b>Exercicio 03</b>\n",
        "\n",
        "Faça um programa que peça 10 notas do aluno. Faça a média e mostre as seguintes mensagens:\n",
        "\n",
        "Para 7 a 10 - Aprovado<br>\n",
        "Para 5.5 a 7 - Recuperação <br>\n",
        "Para menor de 5.5 - Reprovado"
      ]
    },
    {
      "cell_type": "code",
      "metadata": {
        "id": "hxKuPSpxiB0c",
        "colab_type": "code",
        "colab": {}
      },
      "source": [
        "notas = []\n",
        "for nota in range(10):\n",
        "    notas.append(float(input(f\"Digite a {nota + 1} nota: \")))\n",
        "\n",
        "media = sum(notas) / len(notas)\n",
        "\n",
        "print(f\"A média das notas é: {media:.2f}\")\n",
        "if 7 <= media <=10:\n",
        "    print(\"Situação: Aprovado\")\n",
        "elif 5.5 <= media < 7:\n",
        "    print(\"Situação: Recuperação\")\n",
        "elif media < 5.5:\n",
        "    print(\"Situação: Reprovado\")"
      ],
      "execution_count": null,
      "outputs": []
    },
    {
      "cell_type": "markdown",
      "metadata": {
        "id": "GkG7YFsLhtgP",
        "colab_type": "text"
      },
      "source": [
        "<b>Exercicio 04</b>\n",
        "\n",
        "Faça um programa de cadastro de pessoas que receba 10 nomes, idades e e-mails e salve cada um em uma lista.\n",
        "\n",
        "Depois mostre as listas separadamente \n",
        "(print (lista) já é o suficiente)"
      ]
    },
    {
      "cell_type": "code",
      "metadata": {
        "id": "JBCvn_QWiCYE",
        "colab_type": "code",
        "colab": {}
      },
      "source": [
        "# Definindo a classe\n",
        "class Pessoa:\n",
        "\n",
        "    # Definindo a função construtora\n",
        "    def __init__(self, nome, email, idade):\n",
        "        self.__nome = nome\n",
        "        self.__email = email\n",
        "        self.__idade = idade\n",
        "    \n",
        "    # Definindo métodos getters\n",
        "    @property\n",
        "    def nome(self):\n",
        "        return self.__nome\n",
        "    \n",
        "    @property\n",
        "    def email(self):\n",
        "        return self.__email\n",
        "    \n",
        "    @property\n",
        "    def idade(self):\n",
        "        return self.__idade\n",
        "\n",
        "    # Método para cadastrar lista de pessoas\n",
        "    @classmethod\n",
        "    def cadastrar_lista_pessoas(cls, quantidade):\n",
        "        lista_pessoas = []\n",
        "        for i in range(quantidade):\n",
        "            lista_pessoas.append(cls(input(f\"Digite o nome da {i + 1} pessoa: \"), input(f\"Digite o email da {i + 1} pessoa: \"), int(input(f\"Digite a idade da {i + 1} pessoa: \"))))\n",
        "        \n",
        "        return lista_pessoas\n",
        "    \n",
        "\n",
        "# Definindo a lista de pessoas\n",
        "lista_pessoas = Pessoa.cadastrar_lista_pessoas(10)\n",
        "\n",
        "# Exibindo a lista de pessoas\n",
        "for i, pessoa in enumerate(lista_pessoas):\n",
        "    print(f\"Pessoa {i + 1}:\")\n",
        "    print(f\"Nome: {pessoa.nome}\\nEmail: {pessoa.email}\\nIdade: {pessoa.idade}\")\n",
        "    print()"
      ],
      "execution_count": null,
      "outputs": []
    },
    {
      "cell_type": "markdown",
      "metadata": {
        "id": "aeO_h3nAhuFv",
        "colab_type": "text"
      },
      "source": [
        "<b>Exercicio 05</b>\n",
        "\n",
        "Faça um programa que peça ao usuário digitar a quantidade de vendas do dia. Cadastre cada venda separadamente e depois mostre a média e o valor total vendido no dia."
      ]
    },
    {
      "cell_type": "code",
      "metadata": {
        "id": "xXB8UvNbiC8o",
        "colab_type": "code",
        "colab": {}
      },
      "source": [
        "quantidade = int(input(\"Digite a quantidade de vendas do dia: \"))\n",
        "\n",
        "vendas = []\n",
        "for venda in range(quantidade):\n",
        "    vendas.append(float(input(f\"Digite o valor da {venda + 1} venda: \")))\n",
        "\n",
        "media_vendas = sum(vendas) / len(vendas)\n",
        "total_vendas = sum(vendas)\n",
        "\n",
        "print(f\"Média de vendas do dia: {media_vendas:.2f}\")\n",
        "print(f\"Total de vendas do dia: {total_vendas:.2f}\")"
      ],
      "execution_count": null,
      "outputs": []
    },
    {
      "cell_type": "markdown",
      "metadata": {
        "id": "FiUBtuCDkxvo",
        "colab_type": "text"
      },
      "source": [
        "----\n",
        "\n",
        "<h1><b> Uso de for com listas. </b></h1>\n",
        "\n",
        "----\n",
        "\n",
        "Para poder usar o for com listas, você deve substituir o range() pelo nome da lista.\n",
        "\n",
        "A cada interação (loop) do for, a variável i ficará com um elemento da lista."
      ]
    },
    {
      "cell_type": "code",
      "metadata": {
        "id": "tNwGr-UklaeH",
        "colab_type": "code",
        "colab": {}
      },
      "source": [
        "# Exemplo1: \n",
        "# Faça um programa que de o bom dia para cada convidade da lista.\n",
        "\n",
        "convidados = [\"Paulo\", \"Pedro\", \"João\", \"Guilherme\",\"Fábio\"]\n",
        "\n",
        "for i in convidados:\n",
        "    print(f\"Bom dia {i}\") # Note que a variável i recebe elementos da lista"
      ],
      "execution_count": null,
      "outputs": []
    },
    {
      "cell_type": "code",
      "metadata": {
        "id": "JkpD8DlKlcF3",
        "colab_type": "code",
        "colab": {}
      },
      "source": [
        "# Exemplo2: \n",
        "# Faça um programa que solicite 3 nomes e depois mostre os nomes um em cada linha\n",
        "\n",
        "nomes_cadastro = []\n",
        "for i in range(3): # Parte do código responsável pela captura dos nomes\n",
        "    nome = input(\"Digite o nome: \")\n",
        "    nomes_cadastro.append(nome)\n",
        "\n",
        "for i in nomes_cadastro: # Parde do código responsável pela apresentação dos nomes\n",
        "    print(i)"
      ],
      "execution_count": null,
      "outputs": []
    },
    {
      "cell_type": "code",
      "metadata": {
        "id": "HWFxKuBhlcgb",
        "colab_type": "code",
        "colab": {}
      },
      "source": [
        "# Exemplo\n",
        "# Com a lista de idades, mostre a idade e se pode entrar na festa.\n",
        "# A entrada é permitida para maiores de 16 anos.\n",
        "\n",
        "idades = [13, 15, 19, 14, 16, 17, 17, 15, 18, 20, 12, 10, 15, 16, 16, 23]\n",
        "\n",
        "for i in idades:\n",
        "    if i >= 16:\n",
        "        print(f\"Idade: {i} - Entrada permitida!\")\n",
        "    else:\n",
        "        print(f\"Idade: {i} - Entrada negada!\")"
      ],
      "execution_count": null,
      "outputs": []
    },
    {
      "cell_type": "markdown",
      "metadata": {
        "id": "goduLBlhhuel",
        "colab_type": "text"
      },
      "source": [
        "<b>Exercicio 06</b>\n",
        "\n",
        "Faça um programa que peça ao usuário que digite o nome de 10 pessoas. Depois mostre cada nome em linhas separadas."
      ]
    },
    {
      "cell_type": "code",
      "metadata": {
        "id": "xS3d9sHvtXxR",
        "colab_type": "code",
        "colab": {}
      },
      "source": [
        "pessoas = []\n",
        "for pessoa in range(10):\n",
        "    pessoas.append(input(f\"Digite o nome da {pessoa + 1}: \"))\n",
        "\n",
        "for pessoa in pessoas:\n",
        "    print(pessoa)"
      ],
      "execution_count": null,
      "outputs": []
    },
    {
      "cell_type": "markdown",
      "metadata": {
        "id": "uxEaQ4czhvAB",
        "colab_type": "text"
      },
      "source": [
        "<b>Exercicio 07</b>\n",
        "\n",
        "Faça um programa que receba 10 idades e mostre a seguinte mensagem:\n",
        "\n",
        "Para maiores de 18 anos: Ingressos da Rave liberado!<br>\n",
        "De 16 a 18 anos: Ingressos de cinema liberado <br>\n",
        "De 13 a 16 anos: Ingressos para fliperama liberado<br>\n",
        "Menores de 13 anos: Piscina de bolinhas liberado"
      ]
    },
    {
      "cell_type": "code",
      "metadata": {
        "id": "UOQd0H4ZiEKz",
        "colab_type": "code",
        "colab": {}
      },
      "source": [
        "idades = []\n",
        "for i in range(10):\n",
        "    idade = int(input(f\"Digite a {i + 1} idade: \"))\n",
        "    if idade >= 18:\n",
        "        idades.append([idade, \"Ingressos da Rave liberado!\"])\n",
        "    elif 16 <= idade < 18:\n",
        "        idades.append([idade, \"Ingressos de cinema liberado\"])\n",
        "    elif 13 <= idade < 16:\n",
        "        idades.append([idade, \"Ingressos para fliperama liberado\"])\n",
        "    elif 0 < idade < 13:\n",
        "        idades.append([idade, \"Piscina de bolinhas liberado\"])\n",
        "\n",
        "for idade, situacao in idades:\n",
        "    print(f\"Idade: {idade} | Situação: {situacao}\")"
      ],
      "execution_count": null,
      "outputs": []
    },
    {
      "cell_type": "markdown",
      "metadata": {
        "id": "RLXU617Ch7ST",
        "colab_type": "text"
      },
      "source": [
        "<b>Exercicio 08</b>\n",
        "\n",
        "Faça um programa que pegue a lista e calcule a seguinte formula: 32x+125\n",
        "\n",
        "Com o resultado desta formula mostre sómente os resultados maiores que 550. Para os resultados menores que 550 mostre \"número invalido!\"\n",
        "\n",
        "lista = [1, 6, 9, 1, 5, 4, 8, 9, 15, 23, 14, 54, 82, 91, 45]\n"
      ]
    },
    {
      "cell_type": "code",
      "metadata": {
        "id": "lnHYZb58iEuv",
        "colab_type": "code",
        "colab": {}
      },
      "source": [
        "lista = [1, 6, 9, 1, 5, 4, 8, 9, 15, 23, 14, 54, 82, 91, 45]\n",
        "\n",
        "for item in lista:\n",
        "    resultado = 32 * item + 125\n",
        "    if resultado > 550:\n",
        "        print(resultado)\n",
        "    else:\n",
        "        print(\"Número Inválido!\")"
      ],
      "execution_count": null,
      "outputs": []
    },
    {
      "cell_type": "markdown",
      "metadata": {
        "id": "icqtXstnh8og",
        "colab_type": "text"
      },
      "source": [
        "<b>Exercicio 09</b>\n",
        "\n",
        "Faça um programa que pegue uma lista de valores e separe em 2 listas. Uma com valores menores que 500.00 e outra com maiores ou igual.\n",
        "\n",
        "Depois motre o maior e o menor valor da cada lista.\n",
        "\n",
        "vendas = [100.00, 500.00, 258.50, 710.00, 50.50,750.00, 10.00, 1050.00, 859.75, 199.05, 500.50,750.00, 568.60, 950.00, 950.00, 89.90, 2500.00, 1750.00,500.00]"
      ]
    },
    {
      "cell_type": "code",
      "metadata": {
        "id": "egIUknrZua7r",
        "colab_type": "code",
        "colab": {}
      },
      "source": [
        "vendas = [100.00, 500.00, 258.50, 710.00, 50.50,750.00, 10.00, 1050.00, 859.75, 199.05, 500.50,750.00, 568.60, 950.00, 950.00, 89.90, 2500.00, 1750.00,500.00]\n",
        "menores = []\n",
        "maiores_igual = []\n",
        "\n",
        "for valor in vendas:\n",
        "    if valor < 500:\n",
        "        menores.append(valor)\n",
        "    else:\n",
        "        maiores_igual.append(valor)\n",
        "\n",
        "print(menores)\n",
        "print(maiores_igual, \"\\n\")\n",
        "\n",
        "menor_menores = min(menores)\n",
        "maior_menores = max(menores)\n",
        "\n",
        "menor_maiores_igual = min(maiores_igual)\n",
        "maior_maiores_igual = max(maiores_igual)\n",
        "\n",
        "print(f\"Menor valor da lista com valores menores que 500: {menor_menores}\")\n",
        "print(f\"Maior valor da lista com valores menores que 500: {maior_menores}\\n\")\n",
        "print(f\"Menor valor da lista com valores maiores ou iguais a 500: {menor_maiores_igual}\")\n",
        "print(f\"Maior valor da lista com valores maiores ou iguais a 500: {maior_maiores_igual}\")"
      ],
      "execution_count": null,
      "outputs": []
    }
  ]
}
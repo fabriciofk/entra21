{
  "nbformat": 4,
  "nbformat_minor": 0,
  "metadata": {
    "colab": {
      "name": "conversao.ipynb",
      "provenance": [],
      "collapsed_sections": []
    },
    "kernelspec": {
      "display_name": "Python 3",
      "language": "python",
      "name": "python3"
    },
    "language_info": {
      "codemirror_mode": {
        "name": "ipython",
        "version": 3
      },
      "file_extension": ".py",
      "mimetype": "text/x-python",
      "name": "python",
      "nbconvert_exporter": "python",
      "pygments_lexer": "ipython3",
      "version": "3.7.3"
    }
  },
  "cells": [
    {
      "cell_type": "markdown",
      "metadata": {
        "id": "gMjwH9L4Zk3r",
        "colab_type": "text"
      },
      "source": [
        "---\n",
        "\n",
        "\n",
        "<h1><b><center>Convertendo Tipos de Variáveis</center></b></h1>\n",
        "\n",
        "\n",
        "---"
      ]
    },
    {
      "cell_type": "markdown",
      "metadata": {
        "id": "wNQFjObbZk3u",
        "colab_type": "text"
      },
      "source": [
        "O input() sempre irá retornar para nós uma string (texto).<br>\n",
        "Porém as vezes precisamos de outros tipos de dados como um inteiro ou um float (ponto flutuante ou real).<br>\n",
        "Para isso devemos usar funções para converter como:<br>\n",
        "- int() para interios\n",
        "- float() para float\n",
        "\n",
        "A escolha vai depender do que você está trabalhando.<br>\n",
        "Exemplo:"
      ]
    },
    {
      "cell_type": "code",
      "metadata": {
        "id": "xidL2w-lZk3v",
        "colab_type": "code",
        "colab": {}
      },
      "source": [
        "# converter variável\n",
        "\n",
        "# de string para inteiro\n",
        "var = '10' # a aspa indica que a variável é do tipo string. \n",
        "var = int(var) # Estou convertendo e salvando na mesma variável\n",
        "\n",
        "# de inteiro para string\n",
        "var = 10\n",
        "var = str(var)\n",
        "\n",
        "# de float para string\n",
        "var = 9.50\n",
        "var = str(var)\n",
        "\n",
        "# de string para float\n",
        "var = '10.75'\n",
        "var = float(var)\n",
        "\n",
        "# de inteiro para float\n",
        "var = 10\n",
        "var = float(var)\n",
        "\n",
        "# de float para inteiro\n",
        "# Ficar atento que esta conversão pega somente a parte inteira do número. A parte depois da virgula é perdida\n",
        "\n",
        "var = 7.85\n",
        "var = int(var)\n",
        "print(var)\n",
        "\n",
        "\n",
        "print('\\n')\n",
        "\n",
        "\n",
        "# pedir 2 números inteiros e fazer a soma deles\n",
        "numero1 = int(input(\"Digite o primeiro número: \"))\n",
        "numero2 = int(input(\"Digite o segundo número: \"))\n",
        "soma = numero1 + numero2\n",
        "print(\"A soma dos números é: \", soma)\n",
        "\n",
        "# pedir 2 número float e somar os dois\n",
        "numero1 = float(input(\"Digite o primeiro número: \"))\n",
        "numero2 = float(input(\"Digite o segundo número: \"))\n",
        "soma = numero1 + numero2\n",
        "print(\"A soma dos números é: \", soma)\n",
        "\n",
        "# em via de regra, usamos o float quando queremos trabalhar com dinheiro, preço, peso, altura...\n",
        "valor = float(input(\"Digite o preço do produto: \"))\n",
        "quantidade = int(input(\"Digite a quantidade de produto que você deseja: \"))\n",
        "preco_total = valor * quantidade\n",
        "print(\"O valor total a ser pago é: \", preco_total)\n"
      ],
      "execution_count": null,
      "outputs": []
    },
    {
      "cell_type": "markdown",
      "metadata": {
        "id": "Ij1WbIvLZk3z",
        "colab_type": "text"
      },
      "source": [
        "Uma forma de saber que tipo de variável é usando a função type().\n",
        "\n",
        "Exemplo:"
      ]
    },
    {
      "cell_type": "code",
      "metadata": {
        "id": "EzueohEaZk30",
        "colab_type": "code",
        "colab": {}
      },
      "source": [
        "# para descobrir qual o tipo da variável\n",
        "variavel = 10 #inteiro\n",
        "print(\"Inteiro\")\n",
        "print(type(variavel))\n",
        "\n",
        "print('\\n')\n",
        "\n",
        "variavel = 10.0 # float\n",
        "print(\"Float\")\n",
        "print(type(variavel))\n",
        "\n",
        "print('\\n')\n",
        "\n",
        "variavel = '10 abc' # string (texto)\n",
        "print(\"string\")\n",
        "print(type(variavel))\n",
        "\n"
      ],
      "execution_count": null,
      "outputs": []
    },
    {
      "cell_type": "markdown",
      "metadata": {
        "id": "lmw8YrB3Zk33",
        "colab_type": "text"
      },
      "source": [
        "<h1><b>Exercicio 8</b></h1>\n",
        "\n",
        "Converta as seguintes variáveis e imprima na tela o valor e o tipo da variável"
      ]
    },
    {
      "cell_type": "code",
      "metadata": {
        "id": "rgMVU4AUZk33",
        "colab_type": "code",
        "colab": {}
      },
      "source": [
        "# 8.1 Para string (exemplo)\n",
        "numero = 10  # variável para conversão\n",
        "\n",
        "numero = str(numero) # convertendo a variável\n",
        "print(numero,type(numero)) # imprimindo na tela o valor e o tipo da variável\n",
        "\n",
        "print('\\n')\n",
        "\n",
        "# 8.2 Para float\n",
        "valor = '1.99'\n",
        "\n",
        "\n",
        "print('\\n')\n",
        "\n",
        "# 8.3 Para inteiro\n",
        "inteiro = 8.75\n",
        "\n",
        "\n",
        "print('\\n')\n",
        "\n",
        "# 8.4 Para string\n",
        "texto_idade = 9\n",
        "\n",
        "\n",
        "print('\\n')\n",
        "\n",
        "# 8.5 Para float\n",
        "valor = 10\n",
        "\n",
        "\n",
        "print('\\n')\n",
        "\n",
        "# 8.6 Para inteiro\n",
        "idade = '9'\n",
        "\n",
        "\n",
        "print('\\n')\n",
        "\n",
        "# 8.7 Para string\n",
        "peso_quilo = 1.755\n"
      ],
      "execution_count": null,
      "outputs": []
    },
    {
      "cell_type": "markdown",
      "metadata": {
        "id": "jKGdgpuaZk36",
        "colab_type": "text"
      },
      "source": [
        "<h1><b>Exercicio 9</b></h1>\n",
        "Faça um programa que peça o nome do cliente, a quantidade do produto (inteiro) e o preço (float).\n",
        "\n",
        "Mostre o nome do cliente e o valor total da venda."
      ]
    },
    {
      "cell_type": "code",
      "metadata": {
        "id": "BcI2GRDeZk36",
        "colab_type": "code",
        "colab": {}
      },
      "source": [
        "nome = input(\"Digite seu nome: \")\n",
        "quantidade = int(input(\"Digite a quantidade do produto: \"))\n",
        "preco = float(input(\"Digite o preço do produto: \"))\n",
        "valor_total = preco * quantidade\n",
        "print(f\"Valor total da compra: {valor_total}\")"
      ],
      "execution_count": null,
      "outputs": []
    },
    {
      "cell_type": "markdown",
      "metadata": {
        "id": "dUexVCFqZk39",
        "colab_type": "text"
      },
      "source": [
        "<h1><b>Exercicio 10</b></h1>\n",
        "Faça um programa que peça o nome de 2 produtos, a quantidade comprada de cada produto (inteiro) e o valor (float) de cada um.\n",
        "\n",
        "Mostre o nome a quantidade, preço por unidade e o total de cada produto."
      ]
    },
    {
      "cell_type": "code",
      "metadata": {
        "id": "RlfwgJNfZk3-",
        "colab_type": "code",
        "colab": {}
      },
      "source": [
        "nome_prod1 = input(\"Digite o nome do 1o produto: \")\n",
        "preco_prod1 = float(input(\"Digite o preço do 1o produto: \"))\n",
        "quantidade_prod1 = int(input(\"Digite a quantidade do 1o produto: \"))\n",
        "\n",
        "nome_prod2 = input(\"Digite o nome do 2o produto: \")\n",
        "preco_prod2 = float(input(\"Digite o preço do 2o produto: \"))\n",
        "quantidade_prod2 = int(input(\"Digite a quantidade do 2o produto: \"))\n",
        "\n",
        "total_prod1 = preco_prod1 * quantidade_prod1\n",
        "total_prod2 = preco_prod2 * quantidade_prod2\n",
        "\n",
        "print(f\"Nome: {nome_prod1}\")\n",
        "print(f\"Preço: {preco_prod1}\")\n",
        "print(f\"Quantidade: {quantidade_prod1}\")\n",
        "print(f\"Valor total em produtos: {total_prod1}\")\n",
        "print(\"---------------------------------------\")\n",
        "print(f\"Nome: {nome_prod2}\")\n",
        "print(f\"Preço: {preco_prod2}\")\n",
        "print(f\"Quantidade: {quantidade_prod2}\")\n",
        "print(f\"Valor total em produtos: {total_prod2}\")"
      ],
      "execution_count": null,
      "outputs": []
    },
    {
      "cell_type": "markdown",
      "metadata": {
        "id": "8z6JPPFfZk4B",
        "colab_type": "text"
      },
      "source": [
        "<h1><b>Exercicio 11</b></h1>\n",
        "Escreva um programa que peça o peso (float) de 3 pessoas e motre na tela a soma de todos os pesos. "
      ]
    },
    {
      "cell_type": "code",
      "metadata": {
        "id": "AOJAR6FFsMft",
        "colab_type": "code",
        "colab": {}
      },
      "source": [
        "peso1 = float(input(\"Digite o peso da 1a pessoa: \"))\n",
        "peso2 = float(input(\"Digite o peso da 2a pessoa: \"))\n",
        "peso3 = float(input(\"Digite o peso da 3a pessoa: \"))\n",
        "soma = peso1 + peso2 + peso3\n",
        "print(f\"Soma dos pesos: {soma}\")"
      ],
      "execution_count": null,
      "outputs": []
    }
  ]
}
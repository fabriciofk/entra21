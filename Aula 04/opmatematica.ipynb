{
  "nbformat": 4,
  "nbformat_minor": 0,
  "metadata": {
    "colab": {
      "name": "opmatematica.ipynb",
      "provenance": [],
      "collapsed_sections": []
    },
    "kernelspec": {
      "display_name": "Python 3",
      "language": "python",
      "name": "python3"
    },
    "language_info": {
      "codemirror_mode": {
        "name": "ipython",
        "version": 3
      },
      "file_extension": ".py",
      "mimetype": "text/x-python",
      "name": "python",
      "nbconvert_exporter": "python",
      "pygments_lexer": "ipython3",
      "version": "3.7.3"
    }
  },
  "cells": [
    {
      "cell_type": "markdown",
      "metadata": {
        "id": "PyRty6XTspiM",
        "colab_type": "text"
      },
      "source": [
        "---\n",
        "\n",
        "\n",
        "<h1><b><center>Operações Matemáticas Básicas</center></b></h1>\n",
        "\n",
        "\n",
        "---"
      ]
    },
    {
      "cell_type": "markdown",
      "metadata": {
        "id": "jpZNDPKcspiO",
        "colab_type": "text"
      },
      "source": [
        "O python possui 7 operadores matemáticos. Vamos ver os 5 primeiros.<br>\n",
        "\n",
        "<b>SOMA</b><br>\n",
        "O operado usado para soma é o sinal de mais \\+<br>\n",
        "2 \\+ 2 \\= 4<br>\n",
        "\n",
        "<b>Subtração</b><br>\n",
        "O operador para subtração é o sinal de menos \\-<br>\n",
        "5 \\- 3 \\= 2<br>\n",
        "\n",
        "<b>Divizão</b><br>\n",
        "O operador para divizão é a barra \\/<br>\n",
        "10 \\/ 2 \\= 10<br>\n",
        "\n",
        "<b>Multiplicação</b><br>\n",
        "O operador para multiplicação é o asterisco \\*<br>\n",
        "2 \\* 5 \\= 10<br>\n",
        "Quando aparecer a seguinte situação:<br> 2x <br>isso é a mesma coisa que:<br> 2*x<br>\n",
        "\n",
        "<b>Expoente</b><br>\n",
        "Você se lemba o que é um expoente?<br>\n",
        "O expoente é uma conta matemática em que o primeiro número multiplica por ele mesmo uma quantidade de vezes.<br>\n",
        "Exempo é o 4² (lea-se 4 elevado a 2 ou 4 ao quadrado)<br>\n",
        "4² -> 4 \\* 4 \\= 16<br>\n",
        "4³ -> 4 \\* 4 \\* 4 \\= 64<br>\n",
        "O operador para o expoente são dois asteriscos \\*\\*<br>\n",
        "4² -> 4 \\*\\* 2 \\= 16<br>\n",
        "4³ -> 4 \\*\\* 3 \\= 64\n",
        "\n"
      ]
    },
    {
      "cell_type": "code",
      "metadata": {
        "id": "MNHgwgW9spiQ",
        "colab_type": "code",
        "colab": {}
      },
      "source": [
        "# exemplo de soma:\n",
        "numero1 = int(input(\"Digite o primeiro número: \"))\n",
        "numero2 = int(input(\"Digite o segundo número: \"))\n",
        "soma = numero1 + numero2\n",
        "print(\"A soma dos números é: \", soma)\n",
        "\n",
        "print(\"\\n\")\n",
        "\n",
        "# exemplo de multiplicação:\n",
        "valor = float(input(\"Digite o preço do produto: \"))\n",
        "quantidade = int(input(\"Digite a quantidade de produto que você deseja: \"))\n",
        "preco_total = valor * quantidade\n",
        "print(\"O valor total a ser pago é: \", preco_total)\n",
        "\n",
        "print('\\n')\n",
        "\n",
        "# exemplo de divisão\n",
        "quantidade = int(input(\"Digite a quantidade de laranjas que você tem: \"))\n",
        "pessoas = int(input(\"Digite a quantidade de pessoas: \"))\n",
        "divisao = quantidade / pessoas\n",
        "print(\"Cada pessoa deve ficar com \", divisao, \" laranjas\")\n",
        "\n",
        "# exemplo de subtração\n",
        "predio_alto = float(input(\"Digite o tamanho do prédio alto: \"))\n",
        "predio_baixo = float(input(\"Digite o tamanho do prédio baixo: \"))\n",
        "diferenca = predio_alto - predio_baixo\n",
        "print(\"O prédio mais alto \", diferenca, \" metros mais alto que o prédio baixo\")\n",
        "\n",
        "# exemplo de expoente\n",
        "numero = int(input(\"Digite o número para ser elevado ao quadrado: \"))\n",
        "quadrado = numero ** 2\n",
        "print(\"O quadrado de \", numero, \" é: \",quadrado)\n"
      ],
      "execution_count": null,
      "outputs": []
    },
    {
      "cell_type": "markdown",
      "metadata": {
        "id": "QnK3-bqjspiX",
        "colab_type": "text"
      },
      "source": [
        "<h1><b>Exercicio 12</b></h1>\n",
        "\n",
        "Crie um program que peça ao usuário que digite 2 números reias(float) e mostre:\n",
        "\n",
        "A soma dos dois<br>\n",
        "A multiplicação dos dois<br>\n",
        "A divisão do primeiro com o segundo<br>\n",
        "A subtração dos dois<br>"
      ]
    },
    {
      "cell_type": "code",
      "metadata": {
        "id": "YmvpDGddspiY",
        "colab_type": "code",
        "colab": {}
      },
      "source": [
        "num1 = float(input(\"Digite um número: \"))\n",
        "num2 = float(input(\"Digite outro número: \"))\n",
        "soma = num1 + num2\n",
        "subtracao = num1 - num2\n",
        "multiplicacao = num1 * num2\n",
        "divisao = num1 / num2\n",
        "print(f\"Soma: {soma}\")\n",
        "print(f\"Subtração: {subtracao}\")\n",
        "print(f\"MultiplicaçãO: {multiplicacao}\")\n",
        "print(f\"Divisão: {divisao}\")"
      ],
      "execution_count": null,
      "outputs": []
    },
    {
      "cell_type": "markdown",
      "metadata": {
        "id": "A69eYiCUspie",
        "colab_type": "text"
      },
      "source": [
        "<h1><b>Exercicio 13</b></h1>\n",
        "Crie um programa que solicite o valor de x (inteiro)\n",
        "\n",
        "calcule usando a fórmula x+3\n",
        "\n",
        "mostre o resultado"
      ]
    },
    {
      "cell_type": "code",
      "metadata": {
        "id": "cUhfDjw8spif",
        "colab_type": "code",
        "colab": {}
      },
      "source": [
        "x = int(input(\"Digite o valor de x: \"))\n",
        "formula = x + 3\n",
        "print(formula)"
      ],
      "execution_count": null,
      "outputs": []
    },
    {
      "cell_type": "markdown",
      "metadata": {
        "id": "GBVDRN5qspik",
        "colab_type": "text"
      },
      "source": [
        "<h1><b>Exercicio 14</b></h1>\n",
        "Crie um programa que solicite o valor de x (inteiro)\n",
        "\n",
        "calcule usando a fórmula 2x+3\n",
        "\n",
        "mostre o resultado"
      ]
    },
    {
      "cell_type": "code",
      "metadata": {
        "id": "JbQSa2iOspil",
        "colab_type": "code",
        "colab": {}
      },
      "source": [
        "x = int(input(\"Digite o valor de x: \"))\n",
        "formula = 2 * x + 3\n",
        "print(formula)"
      ],
      "execution_count": null,
      "outputs": []
    },
    {
      "cell_type": "markdown",
      "metadata": {
        "id": "QQUS6qwMspiq",
        "colab_type": "text"
      },
      "source": [
        "<h1><b>Exercicio 15</b></h1>\n",
        "Crie um programa que solicite o valor de x (inteiro)\n",
        "\n",
        "calcule usando a fórmula 3x-x+3\n",
        "\n",
        "mostre o resultado"
      ]
    },
    {
      "cell_type": "code",
      "metadata": {
        "id": "zHaAIlNuspir",
        "colab_type": "code",
        "colab": {}
      },
      "source": [
        "x = int(input(\"Digite o valor de x: \"))\n",
        "formula = 3 * x - x + 3\n",
        "print(formula)"
      ],
      "execution_count": null,
      "outputs": []
    },
    {
      "cell_type": "markdown",
      "metadata": {
        "id": "g7msZQdFspiu",
        "colab_type": "text"
      },
      "source": [
        "<h1><b>Exercicio 16</b></h1>\n",
        "Foi verificado que a venda de bermudas aumenta conforme aumenta a temperatura (t) (float) conforme a seguinte fórmula:\n",
        "\n",
        "bermudas = 1.5t + t + 150\n",
        "\n",
        "Lembrando que o t significa temperatura.\n",
        "\n",
        "Faça um programa para o seu superior que peça a temperatura e mostre a venda prevista de bermudas."
      ]
    },
    {
      "cell_type": "code",
      "metadata": {
        "id": "B_jD2eQzspiv",
        "colab_type": "code",
        "colab": {}
      },
      "source": [
        "temperatura = float(input(\"Digite a temperatura: \"))\n",
        "valor = 1.5 * temperatura + temperatura + 150\n",
        "print(f\"Venda prevista: {valor}\")"
      ],
      "execution_count": null,
      "outputs": []
    },
    {
      "cell_type": "markdown",
      "metadata": {
        "id": "2KjsVO2Xspiz",
        "colab_type": "text"
      },
      "source": [
        "<h1><b>Exercicio 17</b></h1>\n",
        "A formula de calculo de área de um circulo é:\n",
        "\n",
        "area = pi*r²\n",
        "\n",
        "Sabemos que:\n",
        "\n",
        "pi = 3.14<br>\n",
        "r = raio da circunferência em metros (float)\n",
        "\n",
        "Crie um programa que peça ao usuário o raio e calcule a área da circunferência\n"
      ]
    },
    {
      "cell_type": "code",
      "metadata": {
        "id": "NZ_mqfawspi0",
        "colab_type": "code",
        "colab": {}
      },
      "source": [
        "from math import pi\n",
        "raio = float(input(\"Digite o raio da circunferência: \"))\n",
        "area = pi * (raio ** 2)\n",
        "print(f\"Area: {area}\")"
      ],
      "execution_count": null,
      "outputs": []
    },
    {
      "cell_type": "markdown",
      "metadata": {
        "id": "v7Sxpj_Hspi3",
        "colab_type": "text"
      },
      "source": [
        "<h1><b>Exercicio 18</b></h1>\n",
        "Crie um programa que solicite o valores (inteiros) de a, b e c para o cálculo do delta\n",
        "\n",
        "A fórmula do delta é:\n",
        "\n",
        "delta = b²-4ac\n",
        "\n",
        "após calcular, mostre o resultado na tela."
      ]
    },
    {
      "cell_type": "code",
      "metadata": {
        "id": "atrCQC6Dspi4",
        "colab_type": "code",
        "colab": {}
      },
      "source": [
        "a = int(input(\"Digite o valor de A: \"))\n",
        "b = int(input(\"Digite o valor de B: \"))\n",
        "c = int(input(\"Digite o valor de C: \"))\n",
        "delta = b ** 2 - 4 * a * c\n",
        "print(f\"Delta: {delta}\")"
      ],
      "execution_count": null,
      "outputs": []
    },
    {
      "cell_type": "markdown",
      "metadata": {
        "id": "uNfRM2Nnspi7",
        "colab_type": "text"
      },
      "source": [
        "<h1><b>Exercicio 19</b></h1>\n",
        "Para calcular o valor do empréstimo usa-se a seguinte fórmula:\n",
        "\n",
        "valor_receber \\= dinheiro_emprestado\\*(1\\+(taxa_juros\\/100))\\*\\*tempo_emprestimo\n",
        "\n",
        "<b>Sendo que:</b><br>\n",
        "valor_receber (float) -> É o valor que você deve receber de volta. Este valor é sempre maior que o valor emprestado.<br>\n",
        "dinheiro_emprestado (float) -> É o valor que você está emprestando.<br>\n",
        "taxa_juros (float) -> Essa é a taxa de juros em porcentagem que irá ser aplicado no valor emprestado todo o mês aumentando o valor a receber<br>\n",
        "tempo_emprestimo (inteiro) -> É o tempo que vai demorar para voê receber o dinheiro de volta.\n",
        "\n",
        "Se você emprestou R$150.00 por 3 mêses a uma taxa de 4.5 porcento ao mês, você deve fazer a seguinte conta:<br>\n",
        "valor_receber \\= 150\\*(1\\+(4.5\\/100))\\*\\*3<br>\n",
        "o resultado deve ser: 171.17491874999996\n",
        "\n",
        "\n",
        "Crie um programa que calcule o emprestimo de R$250.00 a uma taxa de 5.5 porcento ao mês. O programa deve pedir ao usuário que digite quantos mêses deve durar o empréstimo e mostre na tela o valor a ser recebido.\n",
        "\n",
        "\n",
        "\n"
      ]
    },
    {
      "cell_type": "code",
      "metadata": {
        "id": "O_l98TRCspi8",
        "colab_type": "code",
        "colab": {}
      },
      "source": [
        "tempo_emprestimo = int(input(\"Digite a duração do empréstimo (em meses): \"))\n",
        "dinheiro_emprestado = 250\n",
        "taxa_juros = 5.5\n",
        "valor_receber = dinheiro_emprestado * (1 + (taxa_juros / 100)) ** tempo_emprestimo\n",
        "print(f\"Valor recebido: {valor_receber}\")"
      ],
      "execution_count": null,
      "outputs": []
    },
    {
      "cell_type": "markdown",
      "metadata": {
        "id": "ms1hJCksspi_",
        "colab_type": "text"
      },
      "source": [
        "<h1><b>Exercicio 20</b></h1>\n",
        "Usando a seguinte fórmula:\n",
        "\n",
        "valor_receber \\= dinheiro_emprestado\\*(1\\+(taxa_juros\\/100))\\*\\*tempo_emprestimo\n",
        "\n",
        "Crie um programa que solicite ao usuário o valor do dinheiro emprestado, a taxa de juros em porcentagem e o tempo do empréstimo.\n",
        "\n",
        "Mostre na telas o valor do dinheiro emprestado, a taxa de juros em porcentagem, tempo do empréstimo e o valor que deve ser devolvido no final do empréstimo."
      ]
    },
    {
      "cell_type": "code",
      "metadata": {
        "id": "L1zoKwYdspi_",
        "colab_type": "code",
        "colab": {}
      },
      "source": [
        "dinheiro_emprestado = float(input(\"Digite o valor emprestado: \"))\n",
        "taxa_juros = float(input(\"Digite a taxa de juros: \"))\n",
        "tempo_emprestimo = int(input(\"Digite a duração do empréstimo (em meses): \"))\n",
        "valor_receber = dinheiro_emprestado * (1 + (taxa_juros / 100)) ** tempo_emprestimo\n",
        "print(f\"\"\"\n",
        "Valor Emprestado: R$ {dinheiro_emprestado}\n",
        "Taxa de Juros: {taxa_juros}%\n",
        "Tempo de Empréstimo: {tempo_emprestimo} mês(es)\n",
        "Valor à receber: R$ {round(valor_receber, 2)}\n",
        "\"\"\")"
      ],
      "execution_count": null,
      "outputs": []
    }
  ]
}
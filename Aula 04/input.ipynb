{
  "nbformat": 4,
  "nbformat_minor": 0,
  "metadata": {
    "colab": {
      "name": "input.ipynb",
      "provenance": [],
      "collapsed_sections": []
    },
    "kernelspec": {
      "display_name": "Python 3",
      "language": "python",
      "name": "python3"
    },
    "language_info": {
      "codemirror_mode": {
        "name": "ipython",
        "version": 3
      },
      "file_extension": ".py",
      "mimetype": "text/x-python",
      "name": "python",
      "nbconvert_exporter": "python",
      "pygments_lexer": "ipython3",
      "version": "3.7.3"
    }
  },
  "cells": [
    {
      "cell_type": "markdown",
      "metadata": {
        "id": "A8-Gllm0YidG",
        "colab_type": "text"
      },
      "source": [
        "\n",
        "\n",
        "---\n",
        "\n",
        "\n",
        "<h1><b><center>Uso do input()</center></b></h1>\n",
        "\n",
        "\n",
        "---\n",
        "\n"
      ]
    },
    {
      "cell_type": "markdown",
      "metadata": {
        "id": "6odWQAZ6YidH",
        "colab_type": "text"
      },
      "source": [
        "A função input() serve para receber um valor pelo teclado.<br>\n",
        "Ele poder mostrar uma mensagem para o usuário.<br>\n",
        "Não se esqueça de usar uma variável para guardar o valor que o usuário digitou."
      ]
    },
    {
      "cell_type": "code",
      "metadata": {
        "id": "VUV-a65SYidI",
        "colab_type": "code",
        "colab": {}
      },
      "source": [
        "# Solicitando um nome para o usuário\n",
        "\n",
        "nome = input(\"Digite o seu nome: \")\n",
        "\n",
        "# É importante sempre ter uma variável para receber o valor do input(), caso contrário o valor será perdido!\n",
        "# Como salvamos o que o usuário escreveu, fica fácil trabalhar com a variável...\n",
        "\n",
        "print(\"Olá \", nome)\n"
      ],
      "execution_count": null,
      "outputs": []
    },
    {
      "cell_type": "markdown",
      "metadata": {
        "id": "MZdWlh4wYidO",
        "colab_type": "text"
      },
      "source": [
        "<h1><b>Exercicio 5</b></h1>\n",
        "\n",
        "Faça um programa que peça o nome do cliente e depois mostre uma mensagem de boas vindas.\n"
      ]
    },
    {
      "cell_type": "code",
      "metadata": {
        "id": "4REbDHG7YidP",
        "colab_type": "code",
        "colab": {}
      },
      "source": [
        "nome = input(\"Digite seu nome: \")\n",
        "print(f\"Bem-Vindo {nome}\")"
      ],
      "execution_count": null,
      "outputs": []
    },
    {
      "cell_type": "markdown",
      "metadata": {
        "id": "DqbjUSZdYidR",
        "colab_type": "text"
      },
      "source": [
        "<h1><b>Exercicio 6</b></h1>\n",
        "\n",
        "Escreva um programa que peça o nome e a idade do cliente.\n",
        "\n",
        "Depois mostre uma mensagem com o nome e a idade do cliente dando boas vindas."
      ]
    },
    {
      "cell_type": "code",
      "metadata": {
        "id": "71-5T70RYidS",
        "colab_type": "code",
        "colab": {
          "base_uri": "https://localhost:8080/",
          "height": 136
        },
        "outputId": "f2ff277d-b451-45a5-afb7-66ec1cc50d7e"
      },
      "source": [
        "nome = input(\"Digite seu nome: \")\n",
        "idade = input(\"Digite sua idade: \")\n",
        "print(f\"\"\"\n",
        "Bem-Vindo\n",
        "Nome: {nome}\n",
        "idade: {idade}\n",
        "\"\"\")"
      ],
      "execution_count": 1,
      "outputs": [
        {
          "output_type": "stream",
          "text": [
            "Digite seu nome: William\n",
            "Digite sua idade: 20\n",
            "\n",
            "Bem-Vindo\n",
            "Nome: William\n",
            "idade: 20\n",
            "\n"
          ],
          "name": "stdout"
        }
      ]
    },
    {
      "cell_type": "markdown",
      "metadata": {
        "id": "Mn9W9DpzYidU",
        "colab_type": "text"
      },
      "source": [
        "<h1><b>Exercicio 7</b></h1>\n",
        "Escreva um programa que peça o nome e o sobrenome do cliente e mostre na tela um em cada linha.\n"
      ]
    },
    {
      "cell_type": "code",
      "metadata": {
        "id": "xo6r400GYidV",
        "colab_type": "code",
        "colab": {}
      },
      "source": [
        "nome = input(\"Digite seu nome: \")\n",
        "sobrenome = input(\"Digite seu sobrenome: \")\n",
        "print(nome)\n",
        "print(sobrenome)"
      ],
      "execution_count": null,
      "outputs": []
    }
  ]
}
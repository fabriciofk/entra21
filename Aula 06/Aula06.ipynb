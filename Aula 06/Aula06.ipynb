{
  "nbformat": 4,
  "nbformat_minor": 0,
  "metadata": {
    "colab": {
      "name": "Aula06.ipynb",
      "provenance": []
    },
    "kernelspec": {
      "name": "python3",
      "display_name": "Python 3"
    }
  },
  "cells": [
    {
      "cell_type": "markdown",
      "metadata": {
        "id": "QSJRa4ACyCga",
        "colab_type": "text"
      },
      "source": [
        "<h1><b>Execicios 01</b></h1>\n",
        "\n",
        "Escreva um programa que calcule a porcentagem de comissão de vendedores com as seguintes condições\n",
        "\n",
        "Venda Total<br>\n",
        "de R\\$ 0.00 a R\\$ 30000.00 - 0%<br>\n",
        "de R\\$ 30000.01 a R\\$ 50000.00 - 1.5%<br>\n",
        "de R\\$ 50000.01 a R\\$ 100000.00 - 2.5%<br>\n",
        "Acima de R\\$ 100000.00 - 3.5%<br>"
      ]
    },
    {
      "cell_type": "code",
      "metadata": {
        "id": "P9bKKl88xGKO",
        "colab_type": "code",
        "colab": {}
      },
      "source": [
        "def calcula_comissao(valor_venda: float) -> float: \n",
        "    comissao = 0\n",
        "    if 0 < valor_venda < 30_000:\n",
        "        comissao = 0\n",
        "    elif 30_000 <= valor_venda < 50_000:\n",
        "        comissao = 1.5\n",
        "    elif 50_000 <= valor_venda < 100_000:\n",
        "        comissao = 2.5\n",
        "    elif valor_venda >= 100_000:\n",
        "        comissao = 3.5\n",
        "    return comissao\n",
        "\n",
        "\n",
        "def valor_total(valor: float, comissao: float) -> float:\n",
        "    valor_tot = valor + (valor * (comissao / 100))\n",
        "    return valor_tot\n",
        "\n",
        "\n",
        "valor = float(input(\"Digite o valor da venda: \"))\n",
        "print(valor_total(valor, calcula_comissao(valor)))"
      ],
      "execution_count": null,
      "outputs": []
    },
    {
      "cell_type": "markdown",
      "metadata": {
        "id": "F1E1QY3kySyI",
        "colab_type": "text"
      },
      "source": [
        "<h1><b>Execicios 02</b></h1>\n",
        "\n",
        "Escreva um programa que receba 4 notas e calcule a média.<br>\n",
        "Mostre a seguinte mensagem conforme a media final.\n",
        "\n",
        "Media Final<br>\n",
        "de 0 a 5 - Reprovado<br>\n",
        "de 5 a 6.5 - Recuperação<br>\n",
        "de 6.5 a 9 - Aprovado<br>\n",
        "Acima de 9 - Aprovado com louvor<br>"
      ]
    },
    {
      "cell_type": "code",
      "metadata": {
        "id": "442L8_lHy80J",
        "colab_type": "code",
        "colab": {}
      },
      "source": [
        "def calcula_media(*args: float) -> float:\n",
        "    med = round(sum(args) / len(args), 2)\n",
        "    return med\n",
        "\n",
        "\n",
        "def situacao(media: float) -> str:\n",
        "    if 0 < media < 5:\n",
        "        return f\"Média {media} | Situação: Reprovado\"\n",
        "    elif 5 <= media < 6.5:\n",
        "        return f\"Média {media} | Situação: Recuperação\"\n",
        "    elif 6.5 <= media < 9:\n",
        "        return f\"Média {media} | Situação: Aprovado\"\n",
        "    elif media >= 9:\n",
        "        return f\"Média {media} | Situação: Aprovado\"\n",
        "    else:\n",
        "        return f\"Média Inválida\"\n",
        "\n",
        "\n",
        "def cad_notas() -> list:\n",
        "    notas = []\n",
        "    for i in range(4):\n",
        "        notas.append(float(input(\"Digite uma nota: \")))\n",
        "    return notas\n",
        "\n",
        "\n",
        "notas = cad_notas()\n",
        "media = calcula_media(*notas)\n",
        "print(situacao(media))"
      ],
      "execution_count": null,
      "outputs": []
    },
    {
      "cell_type": "markdown",
      "metadata": {
        "id": "wjVlXRF2y9qj",
        "colab_type": "text"
      },
      "source": [
        "<h1><b>Execicios 03</b></h1>\n",
        "\n",
        "Escreva um programa que contenha um menu com 4 opções:<br>\n",
        "A) soma<br>\n",
        "B) média<br>\n",
        "C) divisão<br>\n",
        "D) Sair<br>\n",
        "\n",
        "As opções podem ser escolhidas com as letras maiusculas ou minusculas.\n",
        "\n",
        "Para a opção soma, deve solicitar 2 números, fazer a soma e mostrar o resultado.\n",
        "\n",
        "Para a opção média, deve solicitar 4 números, fazer a média e mostrar os resultados.\n",
        "\n",
        "Para a opção divisão, deve solicitar 2 números, dividir o primeiro pelo segundo e montrar o resultado. Caso o segundo for igual a 0, então deve mostrar o a mensagem \"Erro! Não pode dividir por ZERO!\"\n",
        "\n",
        "Para a opção sair, deve aparecer a mensagem: \"Muito Obrigado e Volte sempre!\"\n"
      ]
    },
    {
      "cell_type": "code",
      "metadata": {
        "id": "51J1OiFu1buY",
        "colab_type": "code",
        "colab": {}
      },
      "source": [
        "from functools import reduce\n",
        "from typing import List\n",
        "import operator\n",
        "\n",
        "\n",
        "def soma(*args: float) -> float:\n",
        "    return sum(args)\n",
        "\n",
        "def subtracao(*args: float) -> float:\n",
        "    return reduce(operator.sub, args)\n",
        "\n",
        "\n",
        "def multiplicacao(*args: float) -> float:\n",
        "    return reduce(operator.mul, args)\n",
        "\n",
        "\n",
        "def divisao(*args: float) -> float:\n",
        "    try:\n",
        "        return reduce(operator.floordiv, args)\n",
        "    except ZeroDivisionError:\n",
        "        return \"Erro! Divisão por zero!\"\n",
        "\n",
        "\n",
        "def media(*args: float) -> float:\n",
        "    med: float = round(sum(args) / len(args), 2)\n",
        "    return med\n",
        "\n",
        "\n",
        "def cad_numeros(quantidade) -> List[float]:\n",
        "    lista: List[float] = []\n",
        "    for i in range(quantidade):\n",
        "        lista.append(float(input(\"Digite um número: \")))\n",
        "    return lista\n",
        "\n",
        "\n",
        "opcao = input(\"\"\"\n",
        "Escolha uma opção: \n",
        "A) Soma\n",
        "B) Subtração\n",
        "C) Média\n",
        "D) Multiplicação\n",
        "E) Divisão\n",
        "\n",
        "Opção escolhida:\n",
        "\"\"\")\n",
        "numeros: List[float] = []\n",
        "if opcao == 'A' or opcao == 'a':\n",
        "    numeros = cad_numeros(2).copy()\n",
        "    resultado = soma(*numeros)\n",
        "    print(f\"Resultado da Soma: {resultado}\")\n",
        "elif opcao == 'B' or opcao == 'b':\n",
        "    numeros = cad_numeros(2).copy()\n",
        "    resultado = subtracao(*numeros)\n",
        "    print(f\"Resultado da Subtração: {resultado}\")\n",
        "elif opcao == 'C' or opcao == 'c':\n",
        "    numeros = cad_numeros(4).copy()\n",
        "    resultado = media(*numeros)\n",
        "    print(f\"Resultado da Média: {resultado}\")\n",
        "elif opcao == 'D' or opcao == 'd':\n",
        "    numeros = cad_numeros(2).copy()\n",
        "    resultado = multiplicacao(*numeros)\n",
        "    print(f\"Resultado da Multiplicação: {resultado}\")\n",
        "elif opcao == 'E' or opcao == 'e':\n",
        "    numeros = cad_numeros(2).copy()\n",
        "    resultado = divisao(*numeros)\n",
        "    print(f\"Resultado da Divisão: {resultado}\")\n",
        "else:\n",
        "    print(\"Opção Inválida!!\")"
      ],
      "execution_count": null,
      "outputs": []
    },
    {
      "cell_type": "markdown",
      "metadata": {
        "id": "1dW6_7Jg1caw",
        "colab_type": "text"
      },
      "source": [
        "<h1><b>Execicios 04</b></h1>\n",
        "<br> Exercicio retirado do site <\\https://wiki.python.org.br/EstruturaDeDecisao\\>\n",
        "\n",
        "Faça um Programa que peça os 3 lados de um triângulo. O programa deverá informar se os valores podem ser um triângulo. Indique, caso os lados formem um triângulo, se o mesmo é: equilátero, isósceles ou escaleno.\n",
        "Dicas:\n",
        "\n",
        "Três lados formam um triângulo quando a soma de quaisquer dois lados for maior que o terceiro;\n",
        "\n",
        "Triângulo Equilátero: três lados iguais;\n",
        "\n",
        "Triângulo Isósceles: quaisquer dois lados iguais;\n",
        "\n",
        "Triângulo Escaleno: três lados diferentes;"
      ]
    },
    {
      "cell_type": "code",
      "metadata": {
        "id": "qFKZ7VSm1jm6",
        "colab_type": "code",
        "colab": {}
      },
      "source": [
        "a = float(input(\"Digite o valor de A: \"))\n",
        "b = float(input(\"Digite o valor de B: \"))\n",
        "c = float(input(\"Digite o valor de C: \"))\n",
        "\n",
        "if a < (b + c) and b < (a + c) and c < (a + b):\n",
        "    if a == b and a == c:\n",
        "        print(\"Triângulo Esquilátero\")\n",
        "    elif a == b or a == c or b == c:\n",
        "        print(\"Triângulo Isósceles\")\n",
        "    else:\n",
        "        print(\"Triângulo Escaleno\")\n",
        "else:\n",
        "    print(\"Não é um triângulo\")"
      ],
      "execution_count": null,
      "outputs": []
    }
  ]
}
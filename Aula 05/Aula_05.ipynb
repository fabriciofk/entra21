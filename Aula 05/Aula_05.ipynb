{
  "nbformat": 4,
  "nbformat_minor": 0,
  "metadata": {
    "kernelspec": {
      "display_name": "Python 3",
      "language": "python",
      "name": "python3"
    },
    "language_info": {
      "codemirror_mode": {
        "name": "ipython",
        "version": 3
      },
      "file_extension": ".py",
      "mimetype": "text/x-python",
      "name": "python",
      "nbconvert_exporter": "python",
      "pygments_lexer": "ipython3",
      "version": "3.7.3"
    },
    "colab": {
      "name": "Aula 05.ipynb",
      "provenance": []
    }
  },
  "cells": [
    {
      "cell_type": "markdown",
      "metadata": {
        "id": "pBZf1a68c6uW",
        "colab_type": "text"
      },
      "source": [
        "---\n",
        "\n",
        "<h1><center>Variáveis Boobleans</h1></center>\n",
        "\n",
        "---"
      ]
    },
    {
      "cell_type": "markdown",
      "metadata": {
        "id": "CYfFpk5Yc6uX",
        "colab_type": "text"
      },
      "source": [
        "Variáveis booleanas possuem 2 valores válidos<br>\n",
        "True (verdadeiro) e False (falso)\n",
        "\n",
        "O valor True pode ser substituido pelo valor 1<br>\n",
        "enquanto o False pode ser substituido pelo valor 0\n"
      ]
    },
    {
      "cell_type": "code",
      "metadata": {
        "id": "Ym3PeakDc6uY",
        "colab_type": "code",
        "colab": {}
      },
      "source": [
        "# Exemplo de variável booleana\n",
        "\n",
        "entrada = True\n",
        "\n",
        "saida = False\n",
        "\n",
        "dineiro_banco = True\n",
        "\n",
        "saldavel = True"
      ],
      "execution_count": null,
      "outputs": []
    },
    {
      "cell_type": "markdown",
      "metadata": {
        "id": "g1bHc47Ac6uf",
        "colab_type": "text"
      },
      "source": [
        "Para fazer a conversão para booleano é utilizado a funão bool()"
      ]
    },
    {
      "cell_type": "code",
      "metadata": {
        "id": "Z-rjFtwec6ug",
        "colab_type": "code",
        "colab": {}
      },
      "source": [
        "# Convertendo numero 1 para booleano\n",
        "var = 1\n",
        "var = bool(var)\n",
        "print(var)\n",
        "\n",
        "print(\"\\n\")\n",
        "\n",
        "# Convertendo numero 0 para booleano\n",
        "var = 0\n",
        "var = bool(var)\n",
        "print(var)"
      ],
      "execution_count": null,
      "outputs": []
    },
    {
      "cell_type": "markdown",
      "metadata": {
        "id": "XyAUapVKc6ui",
        "colab_type": "text"
      },
      "source": [
        "Interesante é a conversão de variáveis para o booleano.<br>\n",
        "Variáveis None ou vazias resultam e False<br>\n",
        "enquanto variáveis com algum valor apresentam valor True"
      ]
    },
    {
      "cell_type": "code",
      "metadata": {
        "id": "pwhF1j-fc6uj",
        "colab_type": "code",
        "colab": {}
      },
      "source": [
        "# Criando variáveis vazias\n",
        "inteiro = 0\n",
        "real = 0.0\n",
        "texto = \"\"\n",
        "\n",
        "\n",
        "print(type(inteiro),bool(inteiro))\n",
        "print(type(real),bool(real))\n",
        "print(type(texto),bool(texto))\n",
        "\n",
        "print(\"\\n\")\n",
        "\n",
        "# O None é um valor nulo. Não tem tipo e muito menos valor\n",
        "nulo = None\n",
        "\n",
        "print(type(nulo),bool(nulo))\n",
        "\n",
        "print(\"\\n\")\n",
        "\n",
        "# Convertendo variáveis com valor\n",
        "inteiro = 10\n",
        "real = -5.0\n",
        "texto = \"0\"\n",
        "\n",
        "\n",
        "print(type(inteiro),bool(inteiro))\n",
        "print(type(real),bool(real))\n",
        "print(type(texto),bool(texto))"
      ],
      "execution_count": null,
      "outputs": []
    },
    {
      "cell_type": "markdown",
      "metadata": {
        "id": "DHW_SId-c6um",
        "colab_type": "text"
      },
      "source": [
        "---\n",
        "\n",
        "<h1><center>Operadores de comparação</h1></center>\n",
        "\n",
        "---"
      ]
    },
    {
      "cell_type": "markdown",
      "metadata": {
        "id": "fS9sNag9c6um",
        "colab_type": "text"
      },
      "source": [
        "Os operadores comparam 2 variávei e retornam True ou False.<br>\n",
        "Eles são muito usados no laço condicional para determinar qual ação deve ser tomada.\n",
        "\n",
        "Existe 6 operadores de comparação:\n",
        "\n",
        "\\>     Maior<br>\n",
        "\\<     Menor<br>\n",
        "\\>\\=   Maior menor<br>\n",
        "\\<\\=   Menor igual<br>\n",
        "\\=\\=   igual (são 2 sinais de iguais)<br>\n",
        "\\!\\=   Difierente<br>\n",
        "\n",
        "Cuidado com o sinal de igual. É muito comum haver a confusão.<br>\n",
        "1 sial de igual é atribuição de valor para uma vairável.<br>\n",
        "Ex:<br>\n",
        "valor = 10\n",
        "\n",
        "\n",
        "2 siais de igual é a comparação se os 2 valores são iguais!<br>\n",
        "10 == 10 <br>\n",
        "True\n"
      ]
    },
    {
      "cell_type": "code",
      "metadata": {
        "id": "zwiZYCJwc6um",
        "colab_type": "code",
        "colab": {}
      },
      "source": [
        "# Exemplo de uso:\n",
        "\n",
        "numero = 10\n",
        "valor = 10\n",
        "dinheiro = 15\n",
        "nota = 9\n",
        "\n",
        "# Maior - Verifica se a primeira variável é maior que a segunda. \n",
        "print(\"Maior >\")\n",
        "print(\"nota (9) > valor (10)? \",nota > valor)\n",
        "print(\"valor (10) > nota (9)? \", valor > nota)\n",
        "print(\"numero (10) > valor (10)? \", numero > valor) # Note que 10 não é maior que 10 por isso será falso.\n",
        "\n",
        "print('\\n')\n",
        "\n",
        "# Maior igual - Verifica se a primeira variável é maior ou igual que a segunda. \n",
        "print(\"Maior igual >=\")\n",
        "print(\"nota (9) >= valor (10)? \",nota >= valor)\n",
        "print(\"valor (10) >= nota (9)? \", valor >= nota)\n",
        "print(\"numero (10) >= valor (10)? \", numero >= valor) # Note que agora o resultado é True.\n",
        "\n",
        "print('\\n')\n",
        "\n",
        "# Menor - Verifica se a primeira variável é menor que a segunda. \n",
        "print(\"Menor <\")\n",
        "print(\"nota (9) < valor (10)? \",nota < valor)\n",
        "print(\"valor (10) < nota (9)? \", valor < nota)\n",
        "print(\"numero (10) < valor (10)? \", numero < valor) # Note que 10 não é menor que 10 por isso será falso.\n",
        "\n",
        "print('\\n')\n",
        "\n",
        "# Menor igual - Verifica se a primeira variável é menor ou igual que a segunda. \n",
        "print(\"Menor igual <=\")\n",
        "print(\"nota (9) <= valor (10)? \",nota <= valor)\n",
        "print(\"valor (10) <= nota (9)? \", valor <= nota)\n",
        "print(\"numero (10) <= valor (10)? \", numero <= valor) # Note que agora o resultado é True.\n",
        "\n",
        "print('\\n')\n",
        "\n",
        "# Igual - Verifica se a primeira variável é igual à segunda. \n",
        "print(\"Igual ==\")\n",
        "print(\"nota (9) == valor (10)? \",nota == valor)\n",
        "print(\"valor (10) == nota (9)? \", valor == nota)\n",
        "print(\"numero (10) == valor (10)? \", numero == valor)\n",
        "\n",
        "print('\\n')\n",
        "\n",
        "# Diferente - Verifica se a primeira variável é diferente que a segunda. \n",
        "print(\"Diferente !=\")\n",
        "print(\"nota (9) != valor (10)? \",nota != valor)\n",
        "print(\"valor (10) != nota (9)? \", valor != nota)\n",
        "print(\"numero (10)!= valor (10)? \", numero != valor)\n",
        "\n",
        "print('\\n')\n"
      ],
      "execution_count": null,
      "outputs": []
    },
    {
      "cell_type": "markdown",
      "metadata": {
        "id": "ReaSdhVnc6up",
        "colab_type": "text"
      },
      "source": [
        "Como saber a diferença ente maior e menor?\n",
        "\n",
        "É simples procure um 4 ou 7, olha só:\n",
        "\n",
        "Maior > é parecido com o número 7\n",
        "\n",
        "Menor < é parecido com o número 4"
      ]
    },
    {
      "cell_type": "markdown",
      "metadata": {
        "id": "KEw0VaF4c6up",
        "colab_type": "text"
      },
      "source": [
        "---\n",
        "\n",
        "<h1><center>Laço condicional 1</h1></center>\n",
        "\n",
        "---\n",
        "Controle de Fluxo ou Estrutura de Decisão"
      ]
    },
    {
      "cell_type": "markdown",
      "metadata": {
        "id": "YLDBShv0c6uq",
        "colab_type": "text"
      },
      "source": [
        "O controle de fluxo serve para orientar o programa a executar um código especifico dependendo da condição.\n",
        "\n",
        "No Python existe só um (if), sendo assim muito mais simples de se trabalhar.\n",
        "\n",
        "O \"if\" pode ser tradusido como \"se\"<br>\n",
        "se for menor que 10 anos deve usar cadeirinha.<br>\n",
        "se bebeu, não dirija.\n",
        "\n",
        "O if terá a seguinte estrutura:<br>\n",
        "\n",
        "if <condição>:<br>\n",
        "....<ação se for verdadeiro><br>\n",
        "else:<br>\n",
        "....<ação se for falso>\n",
        "\n",
        "\n",
        "Os quatro pontinhos significa a identação. Ela é importante para determiar até aonde vai o código dentro do if.<br>\n",
        "Se você sair desta identação o python irá entender que o if terminou.\n",
        "\n",
        "O else irá executar somente se a <condição> for falsa. Só pode ter um else em cada if!\n"
      ]
    },
    {
      "cell_type": "code",
      "metadata": {
        "id": "6V9Y7UUMc6uq",
        "colab_type": "code",
        "colab": {}
      },
      "source": [
        "#Exemplo 1:\n",
        "\n",
        "# Faça um programa que peça 1 número e se este for maior que 10 mostre uma mensagem \"Numero maior que 10\",\n",
        "# se for menor que 10 apareça a mensagem \"Numero menor que 10\"\n",
        "\n",
        "numero = int(input(\"Digite um número: \"))\n",
        "\n",
        "if numero > 10: # Note que usamos os operadores de comparação para determinar a condição.\n",
        "    print(\"Numero maior que 10\") # Os quatro espaços da identação\n",
        "else: # este else só irá execurar se o número for menor.\n",
        "    print(\"Numero menor que 10\")\n",
        "\n",
        "print(\"Não estou identado enão estou fora do if!\")"
      ],
      "execution_count": null,
      "outputs": []
    },
    {
      "cell_type": "code",
      "metadata": {
        "id": "IzXoLo51c6us",
        "colab_type": "code",
        "colab": {}
      },
      "source": [
        "# Exemplo 2:\n",
        "# Crie um programa que pessa uma senha para o usuário\n",
        "# A senha deve ser AbrAcAdAbrA\n",
        "# Se a senha for correta deve aparecer a mensagem: \"Seja bem vindo\"\n",
        "# Se a senha for falsa, deve aparecer a mensagem: \"Senha incorreta!\"\n",
        "\n",
        "senha_secreta = \"AbrAcAdAbrA\"\n",
        "\n",
        "senha = input(\"Digite a sua senha: \")\n",
        "\n",
        "if senha_secreta == senha:\n",
        "    print(\"Seja bem vindo\")\n",
        "else:\n",
        "    print(\"Senha incorreta!\")"
      ],
      "execution_count": null,
      "outputs": []
    },
    {
      "cell_type": "code",
      "metadata": {
        "id": "fa8ujzeac6uu",
        "colab_type": "code",
        "colab": {}
      },
      "source": [
        "# Exemplo 3:\n",
        "# Crie um programa que calcule a função \"f = 3/x\"\n",
        "# Peça ao usuário que digite o valor de x\n",
        "# Se o valor de x for igual a zero, o programa mostrará somente a mensagem final.\n",
        "# Se x for diferente que zero, o programa fará a conta e mostrará o resultado.\n",
        "\n",
        "x = int(input(\"Digite o valor de x: \"))\n",
        "\n",
        "if x != 0:\n",
        "    f = 3/x\n",
        "    print(\"O resultado é: \", f)\n",
        "\n",
        "    # Note que não possui else. Nem sempre o else é necessário.\n",
        "\n",
        "print(\"Fim do programa\") # note que neste print não tem identação. Então ele não faz parte do input\n",
        "\n",
        "\n"
      ],
      "execution_count": null,
      "outputs": []
    },
    {
      "cell_type": "markdown",
      "metadata": {
        "id": "sd5f007-c6uw",
        "colab_type": "text"
      },
      "source": [
        "<h1><b>Exercicio 1</b></h1>\n",
        "\n",
        "Faça um programa que peça 2 numeros inteiros e mostre o maior deles.\n",
        "\n"
      ]
    },
    {
      "cell_type": "code",
      "metadata": {
        "id": "YZFyBrv6c6uw",
        "colab_type": "code",
        "colab": {}
      },
      "source": [
        "num1 = int(input(\"Digite um número: \"))\n",
        "num2 = int(input(\"Digite outro número: \"))\n",
        "if num1 > num2:\n",
        "    print(f\"O número {num1} é maior que {num2}\")\n",
        "elif num1 < num2:    \n",
        "    print(f\"O número {num2} é maior que {num1}\")\n",
        "else:\n",
        "    print(\"Os números são iguais\")"
      ],
      "execution_count": null,
      "outputs": []
    },
    {
      "cell_type": "markdown",
      "metadata": {
        "id": "KS1vHGKGc6uy",
        "colab_type": "text"
      },
      "source": [
        "<h1><b>Exercicio 2</b></h1>\n",
        "Faça um programa que peça um número.\n",
        "\n",
        "Mostre na tela se este número é negativo ou positivo. (lembrando que números positivos são maiores que zero!)"
      ]
    },
    {
      "cell_type": "code",
      "metadata": {
        "id": "jV8rB1w4c6uy",
        "colab_type": "code",
        "colab": {}
      },
      "source": [
        "num = int(input(\"Digite um número: \"))\n",
        "if num == 0:\n",
        "    print(\"Número é neutro\")\n",
        "elif num > 0:\n",
        "    print(\"Número é positivo\")\n",
        "else:\n",
        "    print(\"Número é negativo\")"
      ],
      "execution_count": null,
      "outputs": []
    },
    {
      "cell_type": "markdown",
      "metadata": {
        "id": "kJE4Lu4zc6u0",
        "colab_type": "text"
      },
      "source": [
        "<h1><b>Exercicio 3</b></h1>\n",
        "Faça um programa que peça a idade do cliente.\n",
        "\n",
        "Se ele tiver 18 anos ou mais deve aparecer a mensagem \"Entrada permitida\"\n",
        "\n",
        "Caso contrário deve aparecer a mensagem \"Entrada Negada!\""
      ]
    },
    {
      "cell_type": "code",
      "metadata": {
        "id": "PsGLFOXWc6u1",
        "colab_type": "code",
        "colab": {}
      },
      "source": [
        "idade = int(input(\"Digite sua idade: \"))\n",
        "if idade >= 18:\n",
        "    print(\"Entrada permitida\")\n",
        "else:\n",
        "    print(\"Entrada Negada!\")"
      ],
      "execution_count": null,
      "outputs": []
    },
    {
      "cell_type": "markdown",
      "metadata": {
        "id": "D2Cbbb2Ec6u3",
        "colab_type": "text"
      },
      "source": [
        "<h1><b>Exercicio 4</b></h1>\n",
        "Escreva um programa que peça a nota de um aluno\n",
        "\n",
        "Se a nota for 7 ou mais deve aparecer a mensagem: \"Aprovado\"\n",
        "\n",
        "Caso contrário deve aparecer a mensagem: \"Reprovado\""
      ]
    },
    {
      "cell_type": "code",
      "metadata": {
        "id": "c6fPCVeRc6u3",
        "colab_type": "code",
        "colab": {}
      },
      "source": [
        "nota = float(input(\"Digite a nota: \"))\n",
        "if nota >= 7 and nota <= 10:\n",
        "    print(\"Aprovado\")\n",
        "elif nota < 7 and nota > 0:\n",
        "    print(\"Reprovado\")\n",
        "else:\n",
        "    print(\"Nota Inválida\")"
      ],
      "execution_count": null,
      "outputs": []
    },
    {
      "cell_type": "markdown",
      "metadata": {
        "id": "zzoQdPmlc6u5",
        "colab_type": "text"
      },
      "source": [
        "<h1><b>Exercicio 5</b></h1>\n",
        "Faça um programa que peça uma senha ao usuário.\n",
        "\n",
        "Se a senha for igual a \"Abacaxi\" deve aparecer a mensagem \"Entrada liberada\"\n",
        "\n",
        "Caso contrário deve aparecer a mensagem \"Senha incorreta\""
      ]
    },
    {
      "cell_type": "code",
      "metadata": {
        "id": "OP1I3Zv2c6u5",
        "colab_type": "code",
        "colab": {}
      },
      "source": [
        "senha = input(\"Digite sua senha: \")\n",
        "if senha == \"Abacaxi\":\n",
        "    print(\"Entrada liberada\")\n",
        "else:\n",
        "    print(\"Senha incorreta\")"
      ],
      "execution_count": null,
      "outputs": []
    },
    {
      "cell_type": "markdown",
      "metadata": {
        "id": "47xBX3KUc6u7",
        "colab_type": "text"
      },
      "source": [
        "<h1><b>Exercicio 6</b></h1>\n",
        "Escreva um programa que peça 2 números e mostre eles em ordem crescente"
      ]
    },
    {
      "cell_type": "code",
      "metadata": {
        "id": "WBZv5tICc6u7",
        "colab_type": "code",
        "colab": {}
      },
      "source": [
        "num1 = int(input(\"Digite um número: \"))\n",
        "num2 = int(input(\"Digite outro número: \"))\n",
        "if num1 < num2:\n",
        "    print(f\"{num1}, {num2}\")\n",
        "else:\n",
        "    print(f\"{num2}, {num1}\")"
      ],
      "execution_count": null,
      "outputs": []
    },
    {
      "cell_type": "markdown",
      "metadata": {
        "id": "NTPD8zMPc6u9",
        "colab_type": "text"
      },
      "source": [
        "<h1><b>Exercicio 7</b></h1>\n",
        "Faça um programa que peça 3 números inteiros e mostre o menor número."
      ]
    },
    {
      "cell_type": "code",
      "metadata": {
        "id": "Gt-VsGhhc6u9",
        "colab_type": "code",
        "colab": {}
      },
      "source": [
        "num1 = int(input(\"Digite o primeiro número: \"))\n",
        "num2 = int(input(\"Digite o segundo número: \"))\n",
        "num3 = int(input(\"Digite o terceiro número: \"))\n",
        "if num1 <= num2 and num1 <= num3:\n",
        "    print(num1)\n",
        "elif num2 <= num1 and num2 <= num3:\n",
        "    print(num2)\n",
        "elif num3 <= num1 and num3 <= num2:\n",
        "    print(num3) "
      ],
      "execution_count": null,
      "outputs": []
    },
    {
      "cell_type": "markdown",
      "metadata": {
        "id": "y2SZ5qOsc6u_",
        "colab_type": "text"
      },
      "source": [
        "<h1><b>Exercicio 8</b></h1>\n",
        "Faça um programa que peça 3 números inteiros e mostre o número maior."
      ]
    },
    {
      "cell_type": "code",
      "metadata": {
        "id": "m9nb1JvTc6u_",
        "colab_type": "code",
        "colab": {}
      },
      "source": [
        "num1 = int(input(\"Digite o primeiro número: \"))\n",
        "num2 = int(input(\"Digite o segundo número: \"))\n",
        "num3 = int(input(\"Digite o terceiro número: \"))\n",
        "if num1 >= num2 and num1 >= num3:\n",
        "    print(num1)\n",
        "elif num2 >= num1 and num2 >= num3:\n",
        "    print(num2)\n",
        "elif num3 >= num1 and num3 >= num2:\n",
        "    print(num3) "
      ],
      "execution_count": null,
      "outputs": []
    },
    {
      "cell_type": "markdown",
      "metadata": {
        "id": "TZJQDWCSc6vB",
        "colab_type": "text"
      },
      "source": [
        "<h1><b>Exercicio 9</b></h1>\n",
        "Faça um programa que peça 3 números inteiros e mostre o os três em ordem crescente.\n",
        "\n"
      ]
    },
    {
      "cell_type": "code",
      "metadata": {
        "id": "k01aSE7yc6vB",
        "colab_type": "code",
        "colab": {}
      },
      "source": [
        "num1 = int(input(\"Digite o primeiro número: \"))\n",
        "num2 = int(input(\"Digite o segundo número: \"))\n",
        "num3 = int(input(\"Digite o terceiro número: \"))\n",
        "if num1 <= num2 and num1 <= num3:\n",
        "    if num2 <= num3:\n",
        "        print(f\"{num1}, {num2}, {num3}\")\n",
        "    else:\n",
        "        print(f\"{num1}, {num3}, {num2}\")\n",
        "elif num2 <= num1 and num2 <= num3:\n",
        "    if num1 <= num3:\n",
        "        print(f\"{num2}, {num1}, {num3}\")\n",
        "    else:\n",
        "        print(f\"{num2}, {num3}, {num1}\")\n",
        "elif num3 <= num1 and num3 <= num2:\n",
        "    if num1 <= num2:\n",
        "        print(f\"{num3}, {num1}, {num2}\")\n",
        "    else:\n",
        "        print(f\"{num3}, {num2}, {num1}\")"
      ],
      "execution_count": null,
      "outputs": []
    },
    {
      "cell_type": "markdown",
      "metadata": {
        "id": "19y_0RSsc6vD",
        "colab_type": "text"
      },
      "source": [
        "<h1><b>Exercicio 10</b></h1>\n",
        "Faça um programa que peça 3 números inteiros e mostre o os três em ordem decrescente.\n"
      ]
    },
    {
      "cell_type": "code",
      "metadata": {
        "id": "dXfK7e5Cc6vD",
        "colab_type": "code",
        "colab": {}
      },
      "source": [
        "num1 = int(input(\"Digite o primeiro número: \"))\n",
        "num2 = int(input(\"Digite o segundo número: \"))\n",
        "num3 = int(input(\"Digite o terceiro número: \"))\n",
        "if num1 >= num2 and num1 >= num3:\n",
        "    if num2 >= num3:\n",
        "        print(f\"{num1}, {num2}, {num3}\")\n",
        "    else:\n",
        "        print(f\"{num1}, {num3}, {num2}\")\n",
        "elif num2 >= num1 and num2 >= num3:\n",
        "    if num1 >= num3:\n",
        "        print(f\"{num2}, {num1}, {num3}\")\n",
        "    else:\n",
        "        print(f\"{num2}, {num3}, {num1}\")\n",
        "elif num3 >= num1 and num3 >= num2:\n",
        "    if num1 >= num2:\n",
        "        print(f\"{num3}, {num1}, {num2}\")\n",
        "    else:\n",
        "        print(f\"{num3}, {num2}, {num1}\")"
      ],
      "execution_count": null,
      "outputs": []
    },
    {
      "cell_type": "markdown",
      "metadata": {
        "id": "DV98Iz4yc6vE",
        "colab_type": "text"
      },
      "source": [
        "---\n",
        "\n",
        "<h1><center>Laço condicional 2</h1></center>\n",
        "\n",
        "---\n",
        "Laço condicional aninhado"
      ]
    },
    {
      "cell_type": "markdown",
      "metadata": {
        "id": "qm6bV6gfc6vF",
        "colab_type": "text"
      },
      "source": [
        "As vezes necesitamos mais condições para o mesmo problema.\n",
        "\n",
        "Para isso existe 1 solução o \"elif\"\n",
        "\n",
        "O elif fica aninhado (dentro) do if e é executado somente se a sua condição for verdadeira.<br>\n",
        "\n",
        "if <condição1>:\n",
        "....<ação>\n",
        "elif <condição2>:\n",
        "....<ação>\n",
        "else:\n",
        "....<ação se falso>\n",
        "\n",
        "Pode se adicionado quantos elif forem necessário dentro do if. Só lembrando que cada if só pode ter um else!\n",
        "\n",
        "if <condição1>:\n",
        "....<ação>\n",
        "elif <condição2>:\n",
        "....<ação>\n",
        "elif <condição3>:\n",
        "....<ação>\n",
        "elif <condição4>:\n",
        "....<ação>\n",
        "else:\n",
        "....<ação se falso>\n"
      ]
    },
    {
      "cell_type": "code",
      "metadata": {
        "id": "FVt3P3acc6vF",
        "colab_type": "code",
        "colab": {}
      },
      "source": [
        "# Exemplo 1:\n",
        "# Faça um programa que peça a classe de embarque de uma compania aéria.\n",
        "# As opções são A, B e C\n",
        "# Se o cliente digitar A deve aparecer a seguinte mendagem: \"Primeira classe, caviar liberado!\"\n",
        "# Se o cliente digitar B deve aparecer a seguinte mendagem: \"Segunda classe, Café e almoço liberado\"\n",
        "# Se o cliente digitar C deve aparecer a seguinte mendagem: \n",
        "# \"Terceira classe, pacotinho de bolacha 10g por pessoa liberado\"\n",
        "# Caso digite qualquer coisa deve aparecer a seguinte mendagem: \"Opção inválida\"\n",
        "\n",
        "passagem = input(\"Digite a classe de embarque A,B ou C?: \")\n",
        "\n",
        "if passagem == \"A\":\n",
        "    print(\"Primeira classe, caviar liberado!\")\n",
        "elif passagem == \"B\":\n",
        "    print(\"Segunda classe, Café e almoço liberado\")\n",
        "elif passagem == \"C\":\n",
        "    print(\"Terceira classe, pacotinho de bolacha 10g por pessoa liberado\")\n",
        "else:\n",
        "    print(\"Opção inválida\")\n",
        "    \n",
        "# Note que ao ser selecionado uma condição o laço condicional termina."
      ],
      "execution_count": null,
      "outputs": []
    },
    {
      "cell_type": "code",
      "metadata": {
        "id": "8FAetl4qc6vH",
        "colab_type": "code",
        "colab": {}
      },
      "source": [
        "# Exemplo 2:\n",
        "# Faça um menu interativo que possua 3 opções: Prato feito, Fejoada, Macarronada\n",
        "# Peça para o usuário digitar a opção desejada.\n",
        "# Se ele escolher Prato Feito deve aparecer a seguinte mensage: \"1 Prato feito saindo em 15 minutos\"\n",
        "# Se ele escolher Fejoada deve aparecer a seguinte mensage: \"1 Fejoada saindo em 30 minutos\"\n",
        "# Se ele escolher Macarronada deve aparecer a seguinte mensage: \"1 Macarronada saindo em 10 minutos\"\n",
        "\n",
        "mensagem = '''\n",
        "Cardapio do dia:]\n",
        "\n",
        "1) Prato feito\n",
        "2) Fejoada\n",
        "3) Macarronada\n",
        "\n",
        "Digite a opção desejada: '''\n",
        "\n",
        "opcao = input(mensagem)\n",
        "\n",
        "if opcao == '1':\n",
        "    print(\"1 Prato feito saindo em 15 minutos\")\n",
        "elif opcao == '2':\n",
        "    print(\"1 Fejoada saindo em 30 minutos\")\n",
        "elif opcao == '3':\n",
        "    print(\"1 Macarronada saindo em 10 minutos\")\n",
        "else:\n",
        "    print(\"Opção invalida\")"
      ],
      "execution_count": null,
      "outputs": []
    },
    {
      "cell_type": "markdown",
      "metadata": {
        "id": "41WlDt0kc6vJ",
        "colab_type": "text"
      },
      "source": [
        "<h1><b>Exercicio 11</b></h1>\n",
        "Faça um programa que peça o sexo do cliente. \n",
        "\n",
        "Se o cliente digitar 'F' deve aparecer a mensagem \"Como você está bonita hoje!\"\n",
        "\n",
        "Se o cliente digitar 'M' deve aparecer a mensagem \"Como você está forte? andou malhando?\"\n",
        "\n",
        "Se o cliente digitar qualquer outra coisa, deve aparecer a mensagem: \"opção invalida!\"\n"
      ]
    },
    {
      "cell_type": "code",
      "metadata": {
        "id": "AVJEJFX7c6vJ",
        "colab_type": "code",
        "colab": {}
      },
      "source": [
        "sexo = input(\"Digite seu sexo (M - Masculino | F - Feminino): \")\n",
        "if sexo == \"M\":\n",
        "    print(\"Como você está forte? andou malhando?\")\n",
        "elif sexo == \"F\":\n",
        "    print(\"Como você está bonita hoje!\")\n",
        "else:\n",
        "    print(\"Opção Inválida!\")"
      ],
      "execution_count": null,
      "outputs": []
    },
    {
      "cell_type": "markdown",
      "metadata": {
        "id": "hNUAAdqlc6vL",
        "colab_type": "text"
      },
      "source": [
        "<h1><b>Exercicio 12</b></h1>\n",
        "\n",
        "Crie um programa que peça 2 números.\n",
        "\n",
        "Depois mostre um menu interativo contendo 5 operações matemáticas do python\n",
        "<br>(adição, subtração, multiplicação, divisão e expoente)\n",
        "\n",
        "Peça para o usuário escolher uma destas opções e mostre o resultado da operação escolhida."
      ]
    },
    {
      "cell_type": "code",
      "metadata": {
        "id": "9qy2nkiac6vL",
        "colab_type": "code",
        "colab": {}
      },
      "source": [
        "num1 = float(input(\"Digite um número: \"))\n",
        "num2 = float(input(\"Digite outro número: \"))\n",
        "opcao = input(\"\"\"\n",
        "Operações matemáticas: \n",
        "1 - Soma\n",
        "2 - Subtração\n",
        "3 - Multiplicação\n",
        "4 - Divisão\n",
        "\n",
        "Opção escolhida: \n",
        "\"\"\")\n",
        "if opcao == \"1\":\n",
        "    soma = num1 + num2\n",
        "    print(soma)\n",
        "elif opcao == \"2\":\n",
        "    sub = num1 - num2\n",
        "    print(sub)\n",
        "elif opcao == \"3\":\n",
        "    multi = num1 * num2\n",
        "    print(multi)\n",
        "elif opcao == \"4\":\n",
        "    try:\n",
        "        divisao = num1 / num2\n",
        "        print(round(divisao, 2))\n",
        "    except ZeroDivisionError:\n",
        "        print(\"Erro! Divisão por zero!\")\n",
        "else: \n",
        "    print(\"Opcão Inválida!\")"
      ],
      "execution_count": null,
      "outputs": []
    },
    {
      "cell_type": "markdown",
      "metadata": {
        "id": "2fXih4PNc6vN",
        "colab_type": "text"
      },
      "source": [
        "<h1><b>Exercicio 13</b></h1>\n",
        "\n",
        "Crie um programa que peça o nome do cliente, idade, endereço, email e telefone.\n",
        "\n",
        "Depois crie um menu interativo com as seguintes opções: Dados, Endereço, Contato.\n",
        "\n",
        "Se o usuário selecionar \"Dados\" deve aparecer o nome do cliente e a idade\n",
        "\n",
        "Se o usuário selecionar \"Endereço\" deve aparecer o nome do cliente e o endereço\n",
        "\n",
        "Se o usuário selecionar \"Contato\" deve aparecer o nome do cliente, email e o telefone"
      ]
    },
    {
      "cell_type": "code",
      "metadata": {
        "id": "dXdj5ocmc6vN",
        "colab_type": "code",
        "colab": {}
      },
      "source": [
        "nome = input(\"Digite seu nome: \")\n",
        "idade = int(input(\"Digite sua idade: \"))\n",
        "endereco = input(\"Digite seu endereço: \")\n",
        "email = input(\"Digite seu email: \")\n",
        "telefone = input(\"Digite seu telefone: \")\n",
        "opcao = input(\"\"\"\n",
        "Selecione uma Opção:\n",
        "\n",
        "1 - Dados\n",
        "2 - Endereço\n",
        "3 - Contato\n",
        "\n",
        "Opção escolhida: \n",
        "\"\"\")\n",
        "if opcao == \"1\":\n",
        "    print(f\"Nome: {nome}\\nIdade: {idade}\")\n",
        "elif opcao == \"2\":\n",
        "    print(f\"Nome: {nome}\\nEndereço: {endereco}\")\n",
        "elif opcao == \"3\":\n",
        "    print(f\"Nome: {nome}\\nEmail: {email}\\nTelefone: {telefone}\")\n",
        "else:\n",
        "    print(\"Opção Inválida!\")"
      ],
      "execution_count": null,
      "outputs": []
    },
    {
      "cell_type": "markdown",
      "metadata": {
        "id": "2mfngRv7c6vQ",
        "colab_type": "text"
      },
      "source": [
        "<h1><b>Exercicio 14</b></h1>\n",
        "Crie um programa que peça ao usuário digitar um número de 1 a 7 e mostre o dia da semana correspondente sendo que segunda feira é o numero 1 e domingo é 7."
      ]
    },
    {
      "cell_type": "code",
      "metadata": {
        "id": "UBPGtzf1c6vR",
        "colab_type": "code",
        "colab": {}
      },
      "source": [
        "dia = input(\"Digite o dia da semana: \")\n",
        "if dia == \"1\":\n",
        "    print(\"Segunda-Feira\")\n",
        "elif dia == \"2\":\n",
        "    print(\"Terça-Feira\")\n",
        "elif dia == \"3\":\n",
        "    print(\"Quarta-Feira\")\n",
        "elif dia == \"4\":\n",
        "    print(\"Quinta-Feira\")\n",
        "elif dia == \"5\":\n",
        "    print(\"Sexta-Feira\")\n",
        "elif dia == \"6\":\n",
        "    print(\"Sábado\")\n",
        "elif dia == \"7\":\n",
        "    print(\"Domingo\")\n",
        "else:\n",
        "    print(\"Dia inválido\")"
      ],
      "execution_count": null,
      "outputs": []
    },
    {
      "cell_type": "markdown",
      "metadata": {
        "id": "vrFO6F89c6vS",
        "colab_type": "text"
      },
      "source": [
        "<h1><b>Exercicio 15</b></h1>\n",
        "Crie um programa que peça ao usuário que digite um número de 1 a 12 e mostre o mês correspondente ao número.\n"
      ]
    },
    {
      "cell_type": "code",
      "metadata": {
        "id": "SB0FgR24c6vT",
        "colab_type": "code",
        "colab": {}
      },
      "source": [
        "mes = input(\"Digite o mês: \")\n",
        "if mes == \"1\":\n",
        "    print(\"Janeiro\")\n",
        "elif mes == \"2\":\n",
        "    print(\"Fevereiro\")\n",
        "elif mes == \"3\":\n",
        "    print(\"Março\")\n",
        "elif mes == \"4\":\n",
        "    print(\"Abril\")\n",
        "elif mes == \"5\":\n",
        "    print(\"Maio\")\n",
        "elif mes == \"6\":\n",
        "    print(\"Junho\")\n",
        "elif mes == \"7\":\n",
        "    print(\"Julho\")\n",
        "elif mes == \"8\":\n",
        "    print(\"Agosto\")\n",
        "elif mes == \"9\":\n",
        "    print(\"Setembro\")\n",
        "elif mes == \"10\":\n",
        "    print(\"Outubro\")\n",
        "elif mes == \"11\":\n",
        "    print(\"Novembro\")\n",
        "elif mes == \"12\":\n",
        "    print(\"Dezembro\")\n",
        "else:\n",
        "    print(\"Mês inválido\")"
      ],
      "execution_count": null,
      "outputs": []
    },
    {
      "cell_type": "markdown",
      "metadata": {
        "id": "lBqx6X3Wc6vU",
        "colab_type": "text"
      },
      "source": [
        "<h1><b>Exercicio 16</b></h1>\n",
        "\n",
        "Crie um programa para uma promoção de um posto de combustivel.\n",
        "\n",
        "O programa deve pedir ao usuário quantos litros ele quer abastecer e qual combustivel: álcool, diesel ou gasolina\n",
        "\n",
        "A promoção é a seguinte:\n",
        " - Para gasolina: Até 20 litros 0% de desconto e acima de 20 litros 10% de desconto\n",
        " - Para diesel: Até 10 litro 1.5% de desconto e acima de 10 litros 5% de desconto\n",
        " - para álcool: Até 10 litros 5% de desconto e acima de 10 litros 10% de desconto.\n",
        " \n",
        "Mostre o combustivel que ele selecionou, o total abastecido e a porcentagem de desconto a ser aplicada.\n",
        "\n",
        "Não precisa calcular o valor do combustivel!\n"
      ]
    },
    {
      "cell_type": "code",
      "metadata": {
        "id": "W-wZ4VRXc6vV",
        "colab_type": "code",
        "colab": {}
      },
      "source": [
        "litros = int(input(\"Digite a quantidade de litros: \"))\n",
        "combustivel = input(\"\"\"\n",
        "Escolha um combustível:\n",
        "1 - Gasolina\n",
        "2 - Diesel\n",
        "3 - Álcool\n",
        "\"\"\")\n",
        "if combustivel == \"1\":\n",
        "    if litros <= 20:        \n",
        "        print(f\"Gasolina | Total Abastecido: {litros} | Desconto: 0%\")\n",
        "    else:\n",
        "        print(f\"Gasolina | Total Abastecido: {litros} | Desconto: 10%\")\n",
        "elif combustivel == \"2\":\n",
        "    if litros <= 10:\n",
        "        print(f\"Diesel | Total Abastecido: {litros} | Desconto: 1.5%\")\n",
        "    else:\n",
        "        print(f\"Diesel| Total Abastecido: {litros} | Desconto: 5%\")\n",
        "elif combustivel == \"3\":\n",
        "    if litros <= 10:\n",
        "        print(f\"Álcool | Total Abastecido: {litros} | Desconto: 5%\")\n",
        "    else:\n",
        "        print(f\"Álcool | Total Abastecido: {litros} | Desconto: 10%\")\n",
        "else:\n",
        "    print(\"Opção de combustível inválida!\")"
      ],
      "execution_count": null,
      "outputs": []
    },
    {
      "cell_type": "markdown",
      "metadata": {
        "id": "zO1OjTdHc6vW",
        "colab_type": "text"
      },
      "source": [
        "<h1><b>Exercicio 17</b></h1>\n",
        "crie um programa que peça 4 notas de um aluno e calcule a média \"(nota1+nota2+nota3+nota4)/4\" e retorne:\n",
        "\n",
        "Pra média igual a 10 apareça a mensagem \"Aprovado com louvor\"\n",
        "Pra média maior igual a 7 apareça a mensagem \"Aprovado\"\n",
        "Pra média menor que 7 apareça a mensagem \"Reprovado\"\n"
      ]
    },
    {
      "cell_type": "code",
      "metadata": {
        "id": "g0swCI2pc6vX",
        "colab_type": "code",
        "colab": {}
      },
      "source": [
        "notas = []\n",
        "soma = 0\n",
        "for nota in range(4):\n",
        "    notas.append(float(input(f\"Digite a {nota + 1} nota: \")))\n",
        "    soma += notas[nota] \n",
        "media = soma / 4\n",
        "print(f\"Média: {media}\")\n",
        "if media == 10:\n",
        "    print(\"Aprovado com louvor\")\n",
        "elif media >= 7 and media < 10:\n",
        "    print(\"Aprovado\")\n",
        "elif media < 7:\n",
        "    print(\"Reprovado\")\n",
        "else:\n",
        "    print(\"Média Inválida\")"
      ],
      "execution_count": null,
      "outputs": []
    },
    {
      "cell_type": "markdown",
      "metadata": {
        "id": "zq_md4xfc6vY",
        "colab_type": "text"
      },
      "source": [
        "<h1><b>Exercicio 18</b></h1>\n",
        "Peça para o usuário digitar os valores de a, b e c\n",
        "\n",
        "Calcule o delta \"delta = (b**2)-(4*a*c)\"\n",
        "\n",
        "Se o delta der negativo, então deve aparecer a seguinte mensagem: \"Delta negativo! Equação não pode ser resolvida!\"\n",
        "\n",
        "Se o delta der igual a zero, então deve aparecer a seguinte mensagem: \"Delta igual a zero!\"\n",
        "\n",
        "Se o delta der positivo, então deve aparecer a seguinte mensagem: \"A equação pode ser resolvida!\""
      ]
    },
    {
      "cell_type": "code",
      "metadata": {
        "id": "wbzOrx57c6vZ",
        "colab_type": "code",
        "colab": {}
      },
      "source": [
        "a = int(input(\"Digite o valor de A: \"))\n",
        "b = int(input(\"Digite o valor de B: \"))\n",
        "c = int(input(\"Digite o valor de C: \"))\n",
        "delta = (b**2)-(4*a*c)\n",
        "if delta < 0:\n",
        "    print(\"Delta negativo! Equação não pode ser resolvida!\")\n",
        "elif delta == 0:\n",
        "    print(\"Delta igual a zero!\")\n",
        "else:\n",
        "    print(\"A equação pode ser resolvida!\")"
      ],
      "execution_count": null,
      "outputs": []
    },
    {
      "cell_type": "markdown",
      "metadata": {
        "id": "0nilvRNNc6va",
        "colab_type": "text"
      },
      "source": [
        "<h1><b>Exercicio 19</b></h1>\n",
        "Faça um programa para calcular a fórmula do bhaskara para equação de segundo grau: ax²+bx+c\n",
        "\n",
        "Peça para o usuário digitar os valores de a, b e c\n",
        "\n",
        "Calcule o delta \"delta = (b\\*\\*2)-(4\\*a\\*c)\"\n",
        "\n",
        "Se o delta der negativo, então deve aparecer a seguinte mensagem: \"Delta negativo! Equação não pode ser resolvida!\"\n",
        "\n",
        "Se o delta for igual a zero, use esta fórmula \"x=-b/(2\\*a)\" e mostre o valor de x\n",
        "\n",
        "Se delta for maior que zero, então use estas 2 fórmulas \"x =(-b+(delta\\*\\*(1/2)))/(2\\*a)\" e \"x2=(-b-(delta\\*\\*(1/2)))/(2\\*a)\"\n",
        "e mostre o os valores de x1 e x2  \n",
        "    \n",
        "    \n",
        "________________\n",
        "Nota: <br>\n",
        "Para testar se seu programa está certo use estes valores para a, b e c<br>\n",
        "delta negativo a=1, b=1, c=1<br>\n",
        "delta zero a=1, b=2, c=1<br>\n",
        "delta positivo a=1, b=4, c=1<br>"
      ]
    },
    {
      "cell_type": "code",
      "metadata": {
        "id": "FSQSHrPAc6va",
        "colab_type": "code",
        "colab": {}
      },
      "source": [
        "from math import sqrt\n",
        "a = int(input(\"Digite o valor de A: \"))\n",
        "b = int(input(\"Digite o valor de B: \"))\n",
        "c = int(input(\"Digite o valor de C: \"))\n",
        "delta = (b**2)-(4*a*c)\n",
        "if delta < 0:\n",
        "    print(\"Delta negativo! Equação não pode ser resolvida!\")\n",
        "elif delta == 0:\n",
        "    print(\"Delta igual a zero!\")\n",
        "else:\n",
        "    x1 = (-b + sqrt(delta)) / (2 * a)\n",
        "    x2 = (-b - sqrt(delta)) / (2 * a)\n",
        "    print(f\"A equação pode ser resolvida!\\nX1 = {x1}\\nX2 = {x2}\")"
      ],
      "execution_count": null,
      "outputs": []
    }
  ]
}